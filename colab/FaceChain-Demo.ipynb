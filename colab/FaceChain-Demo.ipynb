{
 "cells": [
  {
   "cell_type": "code",
   "execution_count": null,
   "id": "2d34a196-07bd-421f-ae03-d91113b59a0d",
   "metadata": {
    "ExecutionIndicator": {
     "show": true
    },
    "execution": {
     "iopub.execute_input": "2023-08-26T08:43:48.425715Z",
     "iopub.status.busy": "2023-08-26T08:43:48.425409Z"
    },
    "tags": []
   },
   "outputs": [],
   "source": [
    "!git clone https://www.modelscope.cn/studios/CVstudio/cv_human_portrait.git\n",
    "%cd cv_human_portrait\n",
    "!pip install -r requirements.txt\n",
    "!pip install gradio==3.35.2\n",
    "!python app.py"
   ]
  }
 ],
 "metadata": {
  "kernelspec": {
   "display_name": "Python 3 (ipykernel)",
   "language": "python",
   "name": "python3"
  },
  "language_info": {
   "codemirror_mode": {
    "name": "ipython",
    "version": 3
   },
   "file_extension": ".py",
   "mimetype": "text/x-python",
   "name": "python",
   "nbconvert_exporter": "python",
   "pygments_lexer": "ipython3",
   "version": "3.8.16"
  }
 },
 "nbformat": 4,
 "nbformat_minor": 5
}
