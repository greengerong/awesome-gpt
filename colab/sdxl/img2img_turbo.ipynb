{
  "nbformat": 4,
  "nbformat_minor": 0,
  "metadata": {
    "colab": {
      "provenance": [],
      "gpuType": "T4",
      "authorship_tag": "ABX9TyPh9RKErvmOols0WIilRCTM",
      "include_colab_link": true
    },
    "kernelspec": {
      "name": "python3",
      "display_name": "Python 3"
    },
    "language_info": {
      "name": "python"
    },
    "accelerator": "GPU"
  },
  "cells": [
    {
      "cell_type": "markdown",
      "metadata": {
        "id": "view-in-github",
        "colab_type": "text"
      },
      "source": [
        "<a href=\"https://colab.research.google.com/github/greengerong/awesome-llm/blob/main/colab/sdxl/img2img_turbo.ipynb\" target=\"_parent\"><img src=\"https://colab.research.google.com/assets/colab-badge.svg\" alt=\"Open In Colab\"/></a>"
      ]
    },
    {
      "cell_type": "markdown",
      "source": [
        "# 环境设置"
      ],
      "metadata": {
        "id": "izDXe8o7mAP0"
      }
    },
    {
      "cell_type": "code",
      "execution_count": 14,
      "metadata": {
        "colab": {
          "base_uri": "https://localhost:8080/"
        },
        "id": "MxgfoACll7lP",
        "outputId": "cbf7ccb6-2f20-423c-cb8b-05d5d73fb9a7"
      },
      "outputs": [
        {
          "output_type": "stream",
          "name": "stdout",
          "text": [
            "fatal: destination path 'img2img-turbo' already exists and is not an empty directory.\n",
            "  Preparing metadata (setup.py) ... \u001b[?25l\u001b[?25hdone\n",
            "\u001b[31mERROR: pip's dependency resolver does not currently take into account all the packages that are installed. This behaviour is the source of the following dependency conflicts.\n",
            "torchtext 0.17.1 requires torch==2.2.1, but you have torch 2.0.1 which is incompatible.\n",
            "torchtext 0.17.1 requires torchdata==0.7.1, but you have torchdata 0.6.1 which is incompatible.\u001b[0m\u001b[31m\n",
            "\u001b[0m"
          ]
        }
      ],
      "source": [
        "!git clone https://github.com/GaParmar/img2img-turbo.git\n",
        "!pip install -q git+https://github.com/openai/CLIP.git\n",
        "!pip install -q  tqdm>=4.65.0 transformers==4.35.2 triton==2.0.0 urllib3==1.25.4 xformers>=0.0.20 streamlit-keyup==0.2.0 lpips clean-fid peft dominate diffusers==0.25.1 gradio==3.43.1\n",
        "!pip install -q einops>=0.6.1 numpy>=1.24.4 open-clip-torch>=2.20.0 opencv-python==4.6.0.66 pillow>=9.5.0 scipy==1.11.1 timm>=0.9.2 tokenizers torch>=2.0.1 torchaudio>=2.0.2 torchdata==0.6.1 torchmetrics>=1.0.1 torchvision>=0.15.2"
      ]
    },
    {
      "cell_type": "markdown",
      "source": [
        "# 推理"
      ],
      "metadata": {
        "id": "XM55sBGNmDTq"
      }
    },
    {
      "cell_type": "code",
      "source": [
        "%cd /content/img2img-turbo\n",
        "!python  gradio_sketch2image.py"
      ],
      "metadata": {
        "colab": {
          "base_uri": "https://localhost:8080/"
        },
        "id": "zCM2_x0xmDhu",
        "outputId": "7aa5b446-027c-404c-a220-fbf52edb9689"
      },
      "execution_count": null,
      "outputs": [
        {
          "output_type": "stream",
          "name": "stdout",
          "text": [
            "/content/img2img-turbo\n",
            "tokenizer/tokenizer_config.json: 100% 855/855 [00:00<00:00, 5.15MB/s]\n",
            "tokenizer/vocab.json: 100% 1.06M/1.06M [00:00<00:00, 3.74MB/s]\n",
            "tokenizer/merges.txt: 100% 525k/525k [00:00<00:00, 26.0MB/s]\n",
            "tokenizer/special_tokens_map.json: 100% 574/574 [00:00<00:00, 3.32MB/s]\n",
            "text_encoder/config.json: 100% 618/618 [00:00<00:00, 3.34MB/s]\n",
            "model.safetensors: 100% 1.36G/1.36G [00:13<00:00, 99.2MB/s]\n",
            "scheduler/scheduler_config.json: 100% 553/553 [00:00<00:00, 3.00MB/s]\n",
            "vae/config.json: 100% 655/655 [00:00<00:00, 3.79MB/s]\n",
            "diffusion_pytorch_model.safetensors: 100% 335M/335M [00:01<00:00, 180MB/s]\n",
            "unet/config.json: 100% 1.87k/1.87k [00:00<00:00, 10.5MB/s]\n",
            "diffusion_pytorch_model.safetensors: 100% 3.46G/3.46G [00:32<00:00, 105MB/s]\n",
            "Downloading checkpoint to checkpoints/sketch_to_image_stochastic_lora.pkl\n",
            "100% 525M/525M [06:00<00:00, 1.46MiB/s]\n",
            "Downloaded successfully to checkpoints/sketch_to_image_stochastic_lora.pkl\n",
            "/content/img2img-turbo/gradio_sketch2image.py:317: GradioDeprecationWarning: 'scale' value should be an integer. Using 0.4 will cause issues.\n",
            "  with gr.Column(elem_id=\"column_process\", min_width=50, scale=0.4):\n",
            "/usr/local/lib/python3.10/dist-packages/gradio/utils.py:776: UserWarning: Expected 1 arguments for function <function <lambda> at 0x794de8507640>, received 0.\n",
            "  warnings.warn(\n",
            "/usr/local/lib/python3.10/dist-packages/gradio/utils.py:780: UserWarning: Expected at least 1 arguments for function <function <lambda> at 0x794de8507640>, received 0.\n",
            "  warnings.warn(\n",
            "Running on local URL:  http://127.0.0.1:7860\n",
            "Running on public URL: https://e99059355eb19ae141.gradio.live\n",
            "\n",
            "This share link expires in 72 hours. For free permanent hosting and GPU upgrades, run `gradio deploy` from Terminal to deploy to Spaces (https://huggingface.co/spaces)\n",
            "prompt: a blue bird\n",
            "sketch updated\n",
            "r_val=0.4, seed=42\n",
            "prompt: a blue bird\n",
            "sketch updated\n",
            "r_val=0.4, seed=42\n",
            "prompt: a blue bird\n",
            "sketch updated\n",
            "r_val=0.4, seed=42\n",
            "prompt: a blue bird\n",
            "sketch updated\n",
            "r_val=0.4, seed=42\n",
            "prompt: a blue bird\n",
            "sketch updated\n",
            "r_val=0.4, seed=42\n",
            "prompt: a blue bird,sunshine\n",
            "sketch updated\n",
            "r_val=0.4, seed=42\n",
            "prompt: a blue bird,sunshine,Bright light\n",
            "sketch updated\n",
            "r_val=0.4, seed=42\n",
            "prompt: a blue bird,sunshine,(bright light:1.2)\n",
            "sketch updated\n",
            "r_val=0.4, seed=42\n",
            "prompt: a blue bird,sunshine,white background\n",
            "sketch updated\n",
            "r_val=0.4, seed=42\n",
            "prompt: a blue bird,sunshine,Golden yellow background\n",
            "sketch updated\n",
            "r_val=0.4, seed=42\n",
            "prompt: a blue bird,sunshine,Golden yellow background\n",
            "sketch updated\n",
            "r_val=0.4, seed=42\n",
            "prompt: a blue bird,sunshine,Golden yellow background\n",
            "sketch updated\n",
            "r_val=0.4, seed=42\n",
            "prompt: a blue bird,sunshine,Golden yellow background\n",
            "sketch updated\n",
            "r_val=0.4, seed=42\n",
            "prompt: a blue bird,sunshine,Golden yellow background\n",
            "sketch updated\n",
            "r_val=0.4, seed=42\n",
            "prompt: a blue bird,sunshine,Golden yellow background\n",
            "sketch updated\n",
            "r_val=0.4, seed=42\n",
            "prompt: a blue bird,sunshine,Golden yellow background\n",
            "sketch updated\n",
            "r_val=0.4, seed=42\n",
            "prompt: a blue bird,sunshine,Golden yellow background\n",
            "sketch updated\n",
            "r_val=0.4, seed=42\n",
            "prompt: a blue bird,sunshine,Golden yellow background\n",
            "sketch updated\n",
            "r_val=0.4, seed=42\n"
          ]
        }
      ]
    }
  ]
}