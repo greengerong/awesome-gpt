{
  "nbformat": 4,
  "nbformat_minor": 0,
  "metadata": {
    "colab": {
      "provenance": [],
      "authorship_tag": "ABX9TyNXx/rgjSw+SD6iCqKO68zF",
      "include_colab_link": true
    },
    "kernelspec": {
      "name": "python3",
      "display_name": "Python 3"
    },
    "language_info": {
      "name": "python"
    }
  },
  "cells": [
    {
      "cell_type": "markdown",
      "metadata": {
        "id": "view-in-github",
        "colab_type": "text"
      },
      "source": [
        "<a href=\"https://colab.research.google.com/github/greengerong/awesome-llm/blob/main/colab/autogen/autogen_kimi.ipynb\" target=\"_parent\"><img src=\"https://colab.research.google.com/assets/colab-badge.svg\" alt=\"Open In Colab\"/></a>"
      ]
    },
    {
      "cell_type": "markdown",
      "source": [
        "# 环境安装"
      ],
      "metadata": {
        "id": "Ca3SrusYHTj2"
      }
    },
    {
      "cell_type": "code",
      "execution_count": 1,
      "metadata": {
        "colab": {
          "base_uri": "https://localhost:8080/"
        },
        "id": "91JBEq4JGnaH",
        "outputId": "a00c3788-263b-4396-839d-1b76cad190fb"
      },
      "outputs": [
        {
          "output_type": "stream",
          "name": "stdout",
          "text": [
            "/content/autogen\n",
            "Collecting pyautogen\n",
            "  Downloading pyautogen-0.2.23-py3-none-any.whl (244 kB)\n",
            "\u001b[2K     \u001b[90m━━━━━━━━━━━━━━━━━━━━━━━━━━━━━━━━━━━━━━━━\u001b[0m \u001b[32m244.5/244.5 kB\u001b[0m \u001b[31m2.0 MB/s\u001b[0m eta \u001b[36m0:00:00\u001b[0m\n",
            "\u001b[?25hCollecting diskcache (from pyautogen)\n",
            "  Downloading diskcache-5.6.3-py3-none-any.whl (45 kB)\n",
            "\u001b[2K     \u001b[90m━━━━━━━━━━━━━━━━━━━━━━━━━━━━━━━━━━━━━━━━\u001b[0m \u001b[32m45.5/45.5 kB\u001b[0m \u001b[31m3.8 MB/s\u001b[0m eta \u001b[36m0:00:00\u001b[0m\n",
            "\u001b[?25hCollecting docker (from pyautogen)\n",
            "  Downloading docker-7.0.0-py3-none-any.whl (147 kB)\n",
            "\u001b[2K     \u001b[90m━━━━━━━━━━━━━━━━━━━━━━━━━━━━━━━━━━━━━━━━\u001b[0m \u001b[32m147.6/147.6 kB\u001b[0m \u001b[31m8.3 MB/s\u001b[0m eta \u001b[36m0:00:00\u001b[0m\n",
            "\u001b[?25hCollecting flaml (from pyautogen)\n",
            "  Downloading FLAML-2.1.2-py3-none-any.whl (296 kB)\n",
            "\u001b[2K     \u001b[90m━━━━━━━━━━━━━━━━━━━━━━━━━━━━━━━━━━━━━━━━\u001b[0m \u001b[32m296.7/296.7 kB\u001b[0m \u001b[31m7.9 MB/s\u001b[0m eta \u001b[36m0:00:00\u001b[0m\n",
            "\u001b[?25hRequirement already satisfied: numpy<2,>=1.17.0 in /usr/local/lib/python3.10/dist-packages (from pyautogen) (1.25.2)\n",
            "Collecting openai>=1.3 (from pyautogen)\n",
            "  Downloading openai-1.17.1-py3-none-any.whl (268 kB)\n",
            "\u001b[2K     \u001b[90m━━━━━━━━━━━━━━━━━━━━━━━━━━━━━━━━━━━━━━━━\u001b[0m \u001b[32m268.3/268.3 kB\u001b[0m \u001b[31m9.7 MB/s\u001b[0m eta \u001b[36m0:00:00\u001b[0m\n",
            "\u001b[?25hRequirement already satisfied: pydantic!=2.6.0,<3,>=1.10 in /usr/local/lib/python3.10/dist-packages (from pyautogen) (2.6.4)\n",
            "Collecting python-dotenv (from pyautogen)\n",
            "  Downloading python_dotenv-1.0.1-py3-none-any.whl (19 kB)\n",
            "Requirement already satisfied: termcolor in /usr/local/lib/python3.10/dist-packages (from pyautogen) (2.4.0)\n",
            "Collecting tiktoken (from pyautogen)\n",
            "  Downloading tiktoken-0.6.0-cp310-cp310-manylinux_2_17_x86_64.manylinux2014_x86_64.whl (1.8 MB)\n",
            "\u001b[2K     \u001b[90m━━━━━━━━━━━━━━━━━━━━━━━━━━━━━━━━━━━━━━━━\u001b[0m \u001b[32m1.8/1.8 MB\u001b[0m \u001b[31m13.5 MB/s\u001b[0m eta \u001b[36m0:00:00\u001b[0m\n",
            "\u001b[?25hRequirement already satisfied: anyio<5,>=3.5.0 in /usr/local/lib/python3.10/dist-packages (from openai>=1.3->pyautogen) (3.7.1)\n",
            "Requirement already satisfied: distro<2,>=1.7.0 in /usr/lib/python3/dist-packages (from openai>=1.3->pyautogen) (1.7.0)\n",
            "Collecting httpx<1,>=0.23.0 (from openai>=1.3->pyautogen)\n",
            "  Downloading httpx-0.27.0-py3-none-any.whl (75 kB)\n",
            "\u001b[2K     \u001b[90m━━━━━━━━━━━━━━━━━━━━━━━━━━━━━━━━━━━━━━━━\u001b[0m \u001b[32m75.6/75.6 kB\u001b[0m \u001b[31m4.8 MB/s\u001b[0m eta \u001b[36m0:00:00\u001b[0m\n",
            "\u001b[?25hRequirement already satisfied: sniffio in /usr/local/lib/python3.10/dist-packages (from openai>=1.3->pyautogen) (1.3.1)\n",
            "Requirement already satisfied: tqdm>4 in /usr/local/lib/python3.10/dist-packages (from openai>=1.3->pyautogen) (4.66.2)\n",
            "Requirement already satisfied: typing-extensions<5,>=4.7 in /usr/local/lib/python3.10/dist-packages (from openai>=1.3->pyautogen) (4.11.0)\n",
            "Requirement already satisfied: annotated-types>=0.4.0 in /usr/local/lib/python3.10/dist-packages (from pydantic!=2.6.0,<3,>=1.10->pyautogen) (0.6.0)\n",
            "Requirement already satisfied: pydantic-core==2.16.3 in /usr/local/lib/python3.10/dist-packages (from pydantic!=2.6.0,<3,>=1.10->pyautogen) (2.16.3)\n",
            "Requirement already satisfied: packaging>=14.0 in /usr/local/lib/python3.10/dist-packages (from docker->pyautogen) (24.0)\n",
            "Requirement already satisfied: requests>=2.26.0 in /usr/local/lib/python3.10/dist-packages (from docker->pyautogen) (2.31.0)\n",
            "Requirement already satisfied: urllib3>=1.26.0 in /usr/local/lib/python3.10/dist-packages (from docker->pyautogen) (2.0.7)\n",
            "Requirement already satisfied: regex>=2022.1.18 in /usr/local/lib/python3.10/dist-packages (from tiktoken->pyautogen) (2023.12.25)\n",
            "Requirement already satisfied: idna>=2.8 in /usr/local/lib/python3.10/dist-packages (from anyio<5,>=3.5.0->openai>=1.3->pyautogen) (3.6)\n",
            "Requirement already satisfied: exceptiongroup in /usr/local/lib/python3.10/dist-packages (from anyio<5,>=3.5.0->openai>=1.3->pyautogen) (1.2.0)\n",
            "Requirement already satisfied: certifi in /usr/local/lib/python3.10/dist-packages (from httpx<1,>=0.23.0->openai>=1.3->pyautogen) (2024.2.2)\n",
            "Collecting httpcore==1.* (from httpx<1,>=0.23.0->openai>=1.3->pyautogen)\n",
            "  Downloading httpcore-1.0.5-py3-none-any.whl (77 kB)\n",
            "\u001b[2K     \u001b[90m━━━━━━━━━━━━━━━━━━━━━━━━━━━━━━━━━━━━━━━━\u001b[0m \u001b[32m77.9/77.9 kB\u001b[0m \u001b[31m5.4 MB/s\u001b[0m eta \u001b[36m0:00:00\u001b[0m\n",
            "\u001b[?25hCollecting h11<0.15,>=0.13 (from httpcore==1.*->httpx<1,>=0.23.0->openai>=1.3->pyautogen)\n",
            "  Downloading h11-0.14.0-py3-none-any.whl (58 kB)\n",
            "\u001b[2K     \u001b[90m━━━━━━━━━━━━━━━━━━━━━━━━━━━━━━━━━━━━━━━━\u001b[0m \u001b[32m58.3/58.3 kB\u001b[0m \u001b[31m3.8 MB/s\u001b[0m eta \u001b[36m0:00:00\u001b[0m\n",
            "\u001b[?25hRequirement already satisfied: charset-normalizer<4,>=2 in /usr/local/lib/python3.10/dist-packages (from requests>=2.26.0->docker->pyautogen) (3.3.2)\n",
            "Installing collected packages: python-dotenv, h11, flaml, diskcache, tiktoken, httpcore, docker, httpx, openai, pyautogen\n",
            "Successfully installed diskcache-5.6.3 docker-7.0.0 flaml-2.1.2 h11-0.14.0 httpcore-1.0.5 httpx-0.27.0 openai-1.17.1 pyautogen-0.2.23 python-dotenv-1.0.1 tiktoken-0.6.0\n",
            "Requirement already satisfied: openai>=1.0 in /usr/local/lib/python3.10/dist-packages (1.17.1)\n",
            "Requirement already satisfied: anyio<5,>=3.5.0 in /usr/local/lib/python3.10/dist-packages (from openai>=1.0) (3.7.1)\n",
            "Requirement already satisfied: distro<2,>=1.7.0 in /usr/lib/python3/dist-packages (from openai>=1.0) (1.7.0)\n",
            "Requirement already satisfied: httpx<1,>=0.23.0 in /usr/local/lib/python3.10/dist-packages (from openai>=1.0) (0.27.0)\n",
            "Requirement already satisfied: pydantic<3,>=1.9.0 in /usr/local/lib/python3.10/dist-packages (from openai>=1.0) (2.6.4)\n",
            "Requirement already satisfied: sniffio in /usr/local/lib/python3.10/dist-packages (from openai>=1.0) (1.3.1)\n",
            "Requirement already satisfied: tqdm>4 in /usr/local/lib/python3.10/dist-packages (from openai>=1.0) (4.66.2)\n",
            "Requirement already satisfied: typing-extensions<5,>=4.7 in /usr/local/lib/python3.10/dist-packages (from openai>=1.0) (4.11.0)\n",
            "Requirement already satisfied: idna>=2.8 in /usr/local/lib/python3.10/dist-packages (from anyio<5,>=3.5.0->openai>=1.0) (3.6)\n",
            "Requirement already satisfied: exceptiongroup in /usr/local/lib/python3.10/dist-packages (from anyio<5,>=3.5.0->openai>=1.0) (1.2.0)\n",
            "Requirement already satisfied: certifi in /usr/local/lib/python3.10/dist-packages (from httpx<1,>=0.23.0->openai>=1.0) (2024.2.2)\n",
            "Requirement already satisfied: httpcore==1.* in /usr/local/lib/python3.10/dist-packages (from httpx<1,>=0.23.0->openai>=1.0) (1.0.5)\n",
            "Requirement already satisfied: h11<0.15,>=0.13 in /usr/local/lib/python3.10/dist-packages (from httpcore==1.*->httpx<1,>=0.23.0->openai>=1.0) (0.14.0)\n",
            "Requirement already satisfied: annotated-types>=0.4.0 in /usr/local/lib/python3.10/dist-packages (from pydantic<3,>=1.9.0->openai>=1.0) (0.6.0)\n",
            "Requirement already satisfied: pydantic-core==2.16.3 in /usr/local/lib/python3.10/dist-packages (from pydantic<3,>=1.9.0->openai>=1.0) (2.16.3)\n"
          ]
        }
      ],
      "source": [
        "!mkdir autogen\n",
        "%cd /content/autogen\n",
        "!touch OAI_CONFIG_LIST\n",
        "!pip install pyautogen\n",
        "!pip install -qqq matplotlib numpy\n",
        "!pip install --upgrade 'openai>=1.0'"
      ]
    },
    {
      "cell_type": "markdown",
      "source": [
        "# moonshot"
      ],
      "metadata": {
        "id": "wAyQpYPQBkfu"
      }
    },
    {
      "cell_type": "code",
      "source": [
        "from openai import OpenAI\n",
        "from autogen import config_list_from_json\n",
        "\n",
        "config_list = config_list_from_json(env_or_file=\"OAI_CONFIG_LIST\")\n",
        "\n",
        "client = OpenAI(\n",
        "    api_key=config_list[0]['api_key'],\n",
        "    base_url=config_list[0]['base_url'],\n",
        ")\n",
        "\n",
        "history = [\n",
        "    {\"role\": \"system\", \"content\": \"你是 Kimi，由 Moonshot AI 提供的人工智能助手，你更擅长中文和英文的对话。你会为用户提供安全，有帮助，准确的回答。同时，你会拒绝一切涉及恐怖主义，种族歧视，黄色暴力等问题的回答。Moonshot AI 为专有名词，不可翻译成其他语言。\"}\n",
        "]\n",
        "\n",
        "def chat(query, history):\n",
        "    history += [{\n",
        "        \"role\": \"user\",\n",
        "        \"content\": query\n",
        "    }]\n",
        "    completion = client.chat.completions.create(\n",
        "        model=\"moonshot-v1-8k\",\n",
        "        messages=history,\n",
        "        temperature=0.3,\n",
        "    )\n",
        "    result = completion.choices[0].message.content\n",
        "    history += [{\n",
        "        \"role\": \"assistant\",\n",
        "        \"content\": result\n",
        "    }]\n",
        "    return result\n",
        "\n",
        "print(chat(\"地球的自转周期是多少？\", history))\n",
        "print(chat(\"月球呢？\", history))"
      ],
      "metadata": {
        "id": "wiSrOwu3Bs41",
        "colab": {
          "base_uri": "https://localhost:8080/"
        },
        "outputId": "66100b6d-d178-4cf4-9068-e030b2f13b34"
      },
      "execution_count": 6,
      "outputs": [
        {
          "output_type": "stream",
          "name": "stdout",
          "text": [
            "地球的自转周期，也就是地球绕着自己的轴线旋转一周所需的时间，通常被称为一天。这个周期大约是24小时。不过，由于地球在自转的同时还在绕太阳公转，以及受到月球引力的影响，实际上地球的自转周期有极微小的变化。例如，地球的自转速度会因为地球内部质量分布的变化、潮汐摩擦等因素而发生极其微小的改变。但是，为了日常生活的方便，我们通常将一天定义为24小时。\n",
            "月球的自转周期与它的公转周期相同，这个现象称为潮汐锁定。这意味着月球绕地球转一圈的时间和它自己旋转一圈的时间是一样的，大约是27.3天（更精确地说是27天7小时43分11.5秒）。因此，月球总是有一面朝向地球，这一面被称为近地面，而另一面则是远地面。\n",
            "\n",
            "由于这种同步的自转和公转，地球上的观察者只能从地球上看到月球的一面，这也是为什么有时被称为“月球的暗面”的原因，尽管这个称呼有些误导，因为月球的远地面也会受到阳光照射，只是从地球上看不到而已。\n"
          ]
        }
      ]
    },
    {
      "cell_type": "markdown",
      "source": [
        "# autogen"
      ],
      "metadata": {
        "id": "O7SkKMKOBiKM"
      }
    },
    {
      "cell_type": "code",
      "source": [
        "import autogen\n",
        "import datetime\n",
        "import os\n",
        "from autogen import AssistantAgent, UserProxyAgent,config_list_from_json,ConversableAgent\n",
        "import tempfile\n",
        "from autogen.coding import DockerCommandLineCodeExecutor,LocalCommandLineCodeExecutor\n",
        "from IPython.display import Image\n",
        "\n",
        "config_list = config_list_from_json(env_or_file=\"OAI_CONFIG_LIST\")\n",
        "llm_config={\"config_list\": config_list}\n",
        "\n",
        "# Create a temporary directory to store the code files.\n",
        "temp_dir = tempfile.TemporaryDirectory()\n",
        "\n",
        "# Create a local command line code executor.\n",
        "executor = LocalCommandLineCodeExecutor(\n",
        "    timeout=10,  # Timeout for each code execution in seconds.\n",
        "    work_dir=temp_dir.name,  # Use the temporary directory to store the code files.\n",
        ")\n",
        "\n",
        "# Create an agent with code executor configuration.\n",
        "code_executor_agent = ConversableAgent(\n",
        "    \"code_executor_agent\",\n",
        "    system_message=\"Reply 'TERMINATE' in the end when code execute success.\",\n",
        "    llm_config=False,  # Turn off LLM for this agent.\n",
        "    code_execution_config={\"executor\": executor},  # Use the local command line code executor.\n",
        "    human_input_mode=\"NEVER\",  # ALWAYS: Always take human input for this agent for safety.\n",
        "    is_termination_msg=lambda msg: msg.get(\"content\") is not None and \"Great!\" in msg[\"content\"],\n",
        ")\n",
        "\n",
        "\n",
        "# The code writer agent's system message is to instruct the LLM on how to use\n",
        "# the code executor in the code executor agent.\n",
        "code_writer_system_message = \"\"\"You are a helpful AI assistant.\n",
        "Solve tasks using your coding and language skills.\n",
        "In the following cases, suggest python code (in a python coding block) or shell script (in a sh coding block) for the user to execute.\n",
        "1. When you need to collect info, use the code to output the info you need, for example, browse or search the web, download/read a file, print the content of a webpage or a file, get the current date/time, check the operating system. After sufficient info is printed and the task is ready to be solved based on your language skill, you can solve the task by yourself.\n",
        "2. When you need to perform some task with code, use the code to perform the task and output the result. Finish the task smartly.\n",
        "Solve the task step by step if you need to. If a plan is not provided, explain your plan first. Be clear which step uses code, and which step uses your language skill.\n",
        "When using code, you must indicate the script type in the code block. The user cannot provide any other feedback or perform any other action beyond executing the code you suggest. The user can't modify your code. So do not suggest incomplete code which requires users to modify. Don't use a code block if it's not intended to be executed by the user.\n",
        "If you want the user to save the code in a file before executing it, put # filename: <filename> inside the code block as the first line. Don't include multiple code blocks in one response. Do not ask users to copy and paste the result. Instead, use 'print' function for the output when relevant. Check the execution result returned by the user.\n",
        "If the result indicates there is an error, fix the error and output the code again. Suggest the full code instead of partial code or code changes. If the error can't be fixed or if the task is not solved even after the code is executed successfully, analyze the problem, revisit your assumption, collect additional info you need, and think of a different approach to try.\n",
        "When you find an answer, verify the answer carefully. Include verifiable evidence in your response if possible.\n",
        "Reply 'TERMINATE' in the end when everything is done.\n",
        "\"\"\"\n",
        "\n",
        "code_writer_agent = ConversableAgent(\n",
        "    \"code_writer_agent\",\n",
        "    system_message=code_writer_system_message,\n",
        "    llm_config=llm_config,\n",
        "    code_execution_config=False,  # Turn off code execution for this agent.\n",
        ")\n",
        "\n",
        "\n",
        "# chat_result = code_executor_agent.initiate_chat(\n",
        "#     code_writer_agent,\n",
        "#     message=\"Write Python code to calculate the 14th Fibonacci number.\",\n",
        "# )\n",
        "\n",
        "\n",
        "\n",
        "today = datetime.datetime.now().strftime(\"%Y-%m-%d\")\n",
        "chat_result = code_executor_agent.initiate_chat(\n",
        "    code_writer_agent,\n",
        "    message=f\"Today is {today}. Write Python code to plot TSLA's and META's \"\n",
        "    \"stock price gains YTD, and save the plot to a file named 'stock_gains.png'.Reply successfully saved when file saved\",\n",
        ")\n"
      ],
      "metadata": {
        "colab": {
          "base_uri": "https://localhost:8080/"
        },
        "id": "EuwPlQiCGpXH",
        "outputId": "e642c9d5-2d8d-4a5f-9700-20f074298afb"
      },
      "execution_count": 13,
      "outputs": [
        {
          "output_type": "stream",
          "name": "stdout",
          "text": [
            "code_executor_agent (to code_writer_agent):\n",
            "\n",
            "Today is 2024-04-15. Write Python code to plot TSLA's and META's stock price gains YTD, and save the plot to a file named 'stock_gains.png'.Reply successfully saved when file saved\n",
            "\n",
            "--------------------------------------------------------------------------------\n",
            "\n",
            ">>>>>>>> USING AUTO REPLY...\n",
            "code_writer_agent (to code_executor_agent):\n",
            "\n",
            "To plot TSLA's and META's stock price gains YTD and save the plot to a file, we will follow these steps:\n",
            "\n",
            "1. Collect the stock price data for TSLA and META for the year up to today's date (2024-04-15).\n",
            "2. Calculate the price gains for each stock.\n",
            "3. Plot the gains using a Python plotting library.\n",
            "4. Save the plot to a file named 'stock_gains.png'.\n",
            "\n",
            "Since I cannot directly access the internet to fetch the stock data, I will provide you with the code to perform these steps. You will need to execute the code and install the required libraries to get the data and generate the plot.\n",
            "\n",
            "Here is the Python code to accomplish this task:\n",
            "\n",
            "```python\n",
            "# filename: stock_gains_plot.py\n",
            "import yfinance as yf\n",
            "import matplotlib.pyplot as plt\n",
            "import datetime\n",
            "\n",
            "# Fetch stock data for TSLA and META\n",
            "today = datetime.datetime.now().date()\n",
            "yesterday = today - datetime.timedelta(days=1)\n",
            "start_of_year = datetime.datetime(today.year, 1, 1).date()\n",
            "\n",
            "tsla_data = yf.download('TSLA', start=start_of_year, end=yesterday)\n",
            "meta_data = yf.download('META', start=start_of_year, end=yesterday)\n",
            "\n",
            "# Calculate price gains\n",
            "tsla_gain = (tsla_data['Close'].iloc[-1] - tsla_data['Close'].iloc[0]) / tsla_data['Close'].iloc[0] * 100\n",
            "meta_gain = (meta_data['Close'].iloc[-1] - meta_data['Close'].iloc[0]) / meta_data['Close'].iloc[0] * 100\n",
            "\n",
            "# Plot the gains\n",
            "plt.figure(figsize=(10, 6))\n",
            "plt.bar(['TSLA', 'META'], [tsla_gain, meta_gain], color=['blue', 'green'])\n",
            "plt.ylabel('Price Gain (%)')\n",
            "plt.title('YTD Stock Price Gains for TSLA and META')\n",
            "plt.tight_layout()\n",
            "\n",
            "# Save the plot to a file\n",
            "plt.savefig('stock_gains.png')\n",
            "print('Successfully saved the plot to stock_gains.png')\n",
            "```\n",
            "\n",
            "To execute this code, you will need to:\n",
            "\n",
            "1. Install the `yfinance` and `matplotlib` libraries if you haven't already, using the following commands:\n",
            "\n",
            "```sh\n",
            "pip install yfinance matplotlib\n",
            "```\n",
            "\n",
            "2. Save the provided code to a file named `stock_gains_plot.py`.\n",
            "3. Run the script using the command:\n",
            "\n",
            "```sh\n",
            "python stock_gains_plot.py\n",
            "```\n",
            "\n",
            "After running the script, the plot should be saved to the file 'stock_gains.png', and you should see the message \"Successfully saved the plot to stock_gains.png\" printed on the console.\n",
            "\n",
            "TERMINATE\n",
            "\n",
            "--------------------------------------------------------------------------------\n",
            "\n",
            ">>>>>>>> EXECUTING 3 CODE BLOCKS (inferred languages are [python, sh, sh])...\n",
            "code_executor_agent (to code_writer_agent):\n",
            "\n",
            "exitcode: 0 (execution succeeded)\n",
            "Code output: \n",
            "[*********************100%%**********************]  1 of 1 completed\n",
            "\n",
            "[*********************100%%**********************]  1 of 1 completed\n",
            "Successfully saved the plot to stock_gains.png\n",
            "\n",
            "[*********************100%%**********************]  1 of 1 completed\n",
            "\n",
            "[*********************100%%**********************]  1 of 1 completed\n",
            "Successfully saved the plot to stock_gains.png\n",
            "\n",
            "\n",
            "--------------------------------------------------------------------------------\n",
            "\n",
            ">>>>>>>> USING AUTO REPLY...\n",
            "code_writer_agent (to code_executor_agent):\n",
            "\n",
            "Great! It seems that the Python script has executed successfully, and the plot of TSLA's and META's stock price gains YTD has been saved to the file 'stock_gains.png'. You can find the file in the same directory where you ran the script. If you need to view or share the plot, you can open the 'stock_gains.png' file using any image viewer or send it as an attachment.\n",
            "\n",
            "TERMINATE\n",
            "\n",
            "--------------------------------------------------------------------------------\n"
          ]
        }
      ]
    },
    {
      "cell_type": "code",
      "source": [
        "import os\n",
        "from IPython.display import Image\n",
        "print(temp_dir)\n",
        "\n",
        "Image(os.path.join(temp_dir.name, \"stock_gains.png\"))"
      ],
      "metadata": {
        "colab": {
          "base_uri": "https://localhost:8080/",
          "height": 634
        },
        "id": "WEzPsJOeO5f4",
        "outputId": "475bdcb7-1072-4bbd-9727-0fe6aa89b30a"
      },
      "execution_count": 14,
      "outputs": [
        {
          "output_type": "stream",
          "name": "stdout",
          "text": [
            "<TemporaryDirectory '/tmp/tmp0j4goyux'>\n"
          ]
        },
        {
          "output_type": "execute_result",
          "data": {
            "image/png": "[encoded data removed]",
            "text/plain": [
              "<IPython.core.display.Image object>"
            ]
          },
          "metadata": {},
          "execution_count": 14
        }
      ]
    },
    {
      "cell_type": "code",
      "source": [
        "temp_dir.cleanup()\n",
        "!rm -rf /content/autogen/OAI_CONFIG_LIST"
      ],
      "metadata": {
        "id": "f1a3Z3ZmGtCK"
      },
      "execution_count": 15,
      "outputs": []
    }
  ]
}