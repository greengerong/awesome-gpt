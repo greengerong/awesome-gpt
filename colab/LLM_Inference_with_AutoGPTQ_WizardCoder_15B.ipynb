{
  "nbformat": 4,
  "nbformat_minor": 0,
  "metadata": {
    "colab": {
      "provenance": [],
      "gpuType": "T4",
      "toc_visible": true
    },
    "kernelspec": {
      "name": "python3",
      "display_name": "Python 3"
    },
    "language_info": {
      "name": "python"
    },
    "accelerator": "GPU"
  },
  "cells": [
    {
      "cell_type": "markdown",
      "source": [
        "# AutoGPTQ\n",
        "\n",
        "AutoGPTQ is a user-friendly quantization package for Large Language Models (LLMs) based on the GPTQ algorithm. The purpose of this package is to allow users to easily quantize and optimize their language models for inference, making them faster and more efficient while preserving acceptable model quality."
      ],
      "metadata": {
        "id": "ihaZyg2aYQpH"
      }
    },
    {
      "cell_type": "markdown",
      "source": [
        "| Code Credits | Link |\n",
        "| ----------- | ---- |\n",
        "| 🎉 Repository | [![GitHub Repository](https://img.shields.io/github/stars/PanQiWei/AutoGPTQ?style=social)](https://github.com/PanQiWei/AutoGPTQ) |\n",
        "| 🔥 Discover More Colab Notebooks | [![GitHub Repository](https://img.shields.io/badge/GitHub-Repository-black?style=flat-square&logo=github)](https://github.com/R3gm/InsightSolver-Colab/) |\n"
      ],
      "metadata": {
        "id": "OBnzlAqYZM6_"
      }
    },
    {
      "cell_type": "code",
      "execution_count": null,
      "metadata": {
        "colab": {
          "base_uri": "https://localhost:8080/"
        },
        "id": "AppOVzGOJX0m",
        "outputId": "da6d84a6-8e5e-4847-fb3e-6094c31e36bc"
      },
      "outputs": [
        {
          "output_type": "stream",
          "name": "stdout",
          "text": [
            "Requirement already satisfied: auto-gptq==0.2.2 in /usr/local/lib/python3.10/dist-packages (0.2.2)\n",
            "Requirement already satisfied: accelerate>=0.19.0 in /usr/local/lib/python3.10/dist-packages (from auto-gptq==0.2.2) (0.21.0)\n",
            "Requirement already satisfied: datasets in /usr/local/lib/python3.10/dist-packages (from auto-gptq==0.2.2) (2.13.1)\n",
            "Requirement already satisfied: numpy in /usr/local/lib/python3.10/dist-packages (from auto-gptq==0.2.2) (1.22.4)\n",
            "Requirement already satisfied: rouge in /usr/local/lib/python3.10/dist-packages (from auto-gptq==0.2.2) (1.0.1)\n",
            "Requirement already satisfied: torch>=1.13.0 in /usr/local/lib/python3.10/dist-packages (from auto-gptq==0.2.2) (2.0.1+cu118)\n",
            "Requirement already satisfied: safetensors in /usr/local/lib/python3.10/dist-packages (from auto-gptq==0.2.2) (0.3.1)\n",
            "Requirement already satisfied: transformers>=4.26.1 in /usr/local/lib/python3.10/dist-packages (from auto-gptq==0.2.2) (4.30.2)\n",
            "Requirement already satisfied: packaging>=20.0 in /usr/local/lib/python3.10/dist-packages (from accelerate>=0.19.0->auto-gptq==0.2.2) (23.1)\n",
            "Requirement already satisfied: psutil in /usr/local/lib/python3.10/dist-packages (from accelerate>=0.19.0->auto-gptq==0.2.2) (5.9.5)\n",
            "Requirement already satisfied: pyyaml in /usr/local/lib/python3.10/dist-packages (from accelerate>=0.19.0->auto-gptq==0.2.2) (6.0)\n",
            "Requirement already satisfied: filelock in /usr/local/lib/python3.10/dist-packages (from torch>=1.13.0->auto-gptq==0.2.2) (3.12.2)\n",
            "Requirement already satisfied: typing-extensions in /usr/local/lib/python3.10/dist-packages (from torch>=1.13.0->auto-gptq==0.2.2) (4.7.1)\n",
            "Requirement already satisfied: sympy in /usr/local/lib/python3.10/dist-packages (from torch>=1.13.0->auto-gptq==0.2.2) (1.11.1)\n",
            "Requirement already satisfied: networkx in /usr/local/lib/python3.10/dist-packages (from torch>=1.13.0->auto-gptq==0.2.2) (3.1)\n",
            "Requirement already satisfied: jinja2 in /usr/local/lib/python3.10/dist-packages (from torch>=1.13.0->auto-gptq==0.2.2) (3.1.2)\n",
            "Requirement already satisfied: triton==2.0.0 in /usr/local/lib/python3.10/dist-packages (from torch>=1.13.0->auto-gptq==0.2.2) (2.0.0)\n",
            "Requirement already satisfied: cmake in /usr/local/lib/python3.10/dist-packages (from triton==2.0.0->torch>=1.13.0->auto-gptq==0.2.2) (3.25.2)\n",
            "Requirement already satisfied: lit in /usr/local/lib/python3.10/dist-packages (from triton==2.0.0->torch>=1.13.0->auto-gptq==0.2.2) (16.0.6)\n",
            "Requirement already satisfied: huggingface-hub<1.0,>=0.14.1 in /usr/local/lib/python3.10/dist-packages (from transformers>=4.26.1->auto-gptq==0.2.2) (0.16.4)\n",
            "Requirement already satisfied: regex!=2019.12.17 in /usr/local/lib/python3.10/dist-packages (from transformers>=4.26.1->auto-gptq==0.2.2) (2022.10.31)\n",
            "Requirement already satisfied: requests in /usr/local/lib/python3.10/dist-packages (from transformers>=4.26.1->auto-gptq==0.2.2) (2.27.1)\n",
            "Requirement already satisfied: tokenizers!=0.11.3,<0.14,>=0.11.1 in /usr/local/lib/python3.10/dist-packages (from transformers>=4.26.1->auto-gptq==0.2.2) (0.13.3)\n",
            "Requirement already satisfied: tqdm>=4.27 in /usr/local/lib/python3.10/dist-packages (from transformers>=4.26.1->auto-gptq==0.2.2) (4.65.0)\n",
            "Requirement already satisfied: pyarrow>=8.0.0 in /usr/local/lib/python3.10/dist-packages (from datasets->auto-gptq==0.2.2) (9.0.0)\n",
            "Requirement already satisfied: dill<0.3.7,>=0.3.0 in /usr/local/lib/python3.10/dist-packages (from datasets->auto-gptq==0.2.2) (0.3.6)\n",
            "Requirement already satisfied: pandas in /usr/local/lib/python3.10/dist-packages (from datasets->auto-gptq==0.2.2) (1.5.3)\n",
            "Requirement already satisfied: xxhash in /usr/local/lib/python3.10/dist-packages (from datasets->auto-gptq==0.2.2) (3.2.0)\n",
            "Requirement already satisfied: multiprocess in /usr/local/lib/python3.10/dist-packages (from datasets->auto-gptq==0.2.2) (0.70.14)\n",
            "Requirement already satisfied: fsspec[http]>=2021.11.1 in /usr/local/lib/python3.10/dist-packages (from datasets->auto-gptq==0.2.2) (2023.6.0)\n",
            "Requirement already satisfied: aiohttp in /usr/local/lib/python3.10/dist-packages (from datasets->auto-gptq==0.2.2) (3.8.4)\n",
            "Requirement already satisfied: six in /usr/local/lib/python3.10/dist-packages (from rouge->auto-gptq==0.2.2) (1.16.0)\n",
            "Requirement already satisfied: attrs>=17.3.0 in /usr/local/lib/python3.10/dist-packages (from aiohttp->datasets->auto-gptq==0.2.2) (23.1.0)\n",
            "Requirement already satisfied: charset-normalizer<4.0,>=2.0 in /usr/local/lib/python3.10/dist-packages (from aiohttp->datasets->auto-gptq==0.2.2) (2.0.12)\n",
            "Requirement already satisfied: multidict<7.0,>=4.5 in /usr/local/lib/python3.10/dist-packages (from aiohttp->datasets->auto-gptq==0.2.2) (6.0.4)\n",
            "Requirement already satisfied: async-timeout<5.0,>=4.0.0a3 in /usr/local/lib/python3.10/dist-packages (from aiohttp->datasets->auto-gptq==0.2.2) (4.0.2)\n",
            "Requirement already satisfied: yarl<2.0,>=1.0 in /usr/local/lib/python3.10/dist-packages (from aiohttp->datasets->auto-gptq==0.2.2) (1.9.2)\n",
            "Requirement already satisfied: frozenlist>=1.1.1 in /usr/local/lib/python3.10/dist-packages (from aiohttp->datasets->auto-gptq==0.2.2) (1.3.3)\n",
            "Requirement already satisfied: aiosignal>=1.1.2 in /usr/local/lib/python3.10/dist-packages (from aiohttp->datasets->auto-gptq==0.2.2) (1.3.1)\n",
            "Requirement already satisfied: urllib3<1.27,>=1.21.1 in /usr/local/lib/python3.10/dist-packages (from requests->transformers>=4.26.1->auto-gptq==0.2.2) (1.26.16)\n",
            "Requirement already satisfied: certifi>=2017.4.17 in /usr/local/lib/python3.10/dist-packages (from requests->transformers>=4.26.1->auto-gptq==0.2.2) (2023.5.7)\n",
            "Requirement already satisfied: idna<4,>=2.5 in /usr/local/lib/python3.10/dist-packages (from requests->transformers>=4.26.1->auto-gptq==0.2.2) (3.4)\n",
            "Requirement already satisfied: MarkupSafe>=2.0 in /usr/local/lib/python3.10/dist-packages (from jinja2->torch>=1.13.0->auto-gptq==0.2.2) (2.1.3)\n",
            "Requirement already satisfied: python-dateutil>=2.8.1 in /usr/local/lib/python3.10/dist-packages (from pandas->datasets->auto-gptq==0.2.2) (2.8.2)\n",
            "Requirement already satisfied: pytz>=2020.1 in /usr/local/lib/python3.10/dist-packages (from pandas->datasets->auto-gptq==0.2.2) (2022.7.1)\n",
            "Requirement already satisfied: mpmath>=0.19 in /usr/local/lib/python3.10/dist-packages (from sympy->torch>=1.13.0->auto-gptq==0.2.2) (1.3.0)\n"
          ]
        }
      ],
      "source": [
        "pip install auto-gptq==0.2.2"
      ]
    },
    {
      "cell_type": "markdown",
      "source": [
        "# Select the model"
      ],
      "metadata": {
        "id": "R11KqY7lW0yv"
      }
    },
    {
      "cell_type": "markdown",
      "source": [
        "\n",
        "First, we need to specify the model to use. In Colab with T4 GPU, we can run models of up to 20B of parameters with all optimizations, but this may degrade the quality of the model's inference."
      ],
      "metadata": {
        "id": "CzJkCoRRbICP"
      }
    },
    {
      "cell_type": "markdown",
      "source": [
        "In this case, we will use a [WizardCoder](https://huggingface.co/WizardLM/WizardCoder-15B-V1.0), which is a model optimized for generating code in different programming languages.\n",
        "\n",
        "\n",
        "![asd](https://raw.githubusercontent.com/nlpxucan/WizardLM/main/WizardCoder/imgs/pass1.png)\n",
        "\n",
        "\n",
        "\n",
        "\n"
      ],
      "metadata": {
        "id": "hHAz1yGZb4lq"
      }
    },
    {
      "cell_type": "markdown",
      "source": [
        "# Model quantization"
      ],
      "metadata": {
        "id": "PdmNwEqjRcPY"
      }
    },
    {
      "cell_type": "markdown",
      "source": [
        "The model needs more VRAM than we have available, so we have to quantize it. One alternative for this procedure is to use [GPTQ-for-LLaMa](https://github.com/qwopqwop200/GPTQ-for-LLaMa) or use the method provided by auto_gptq:\n"
      ],
      "metadata": {
        "id": "aEcBfs9sRbE_"
      }
    },
    {
      "cell_type": "code",
      "source": [
        "### Demo quantization for facebook/opt-125m to 4bits ###\n",
        "from transformers import AutoTokenizer, TextGenerationPipeline\n",
        "from auto_gptq import AutoGPTQForCausalLM, BaseQuantizeConfig\n",
        "\n",
        "pretrained_model_dir = \"facebook/opt-125m\"\n",
        "quantized_model_dir = \"opt-125m-4bit\"\n",
        "\n",
        "tokenizer = AutoTokenizer.from_pretrained(pretrained_model_dir, use_fast=True)\n",
        "\n",
        "examples = [\n",
        "    tokenizer(\n",
        "        \"auto-gptq is an easy-to-use model quantization library with user-friendly apis, based on GPTQ algorithm.\"\n",
        "    )\n",
        "]\n",
        "\n",
        "quantize_config = BaseQuantizeConfig(\n",
        "    bits=4,  # quantize model to 4-bit\n",
        "    group_size=128,  # it is recommended to set the value to 128\n",
        "    desc_act=False,  # set to False can significantly speed up inference but the perplexity may slightly bad\n",
        ")\n",
        "\n",
        "# load un-quantized model, by default, the model will always be loaded into CPU memory\n",
        "model = AutoGPTQForCausalLM.from_pretrained(pretrained_model_dir, quantize_config)\n",
        "\n",
        "# quantize model, the examples should be list of dict whose keys can only be \"input_ids\" and \"attention_mask\"\n",
        "model.quantize(examples)\n",
        "\n",
        "# save quantized model\n",
        "model.save_quantized(quantized_model_dir)\n",
        "\n",
        "# save quantized model using safetensors\n",
        "model.save_quantized(quantized_model_dir, use_safetensors=True)"
      ],
      "metadata": {
        "id": "6t_9O4T5QtTy"
      },
      "execution_count": null,
      "outputs": []
    },
    {
      "cell_type": "markdown",
      "source": [
        "However, we still need more VRAM to quantize the wizardcoder with auto_gptq."
      ],
      "metadata": {
        "id": "ODmd_8tgSKUm"
      }
    },
    {
      "cell_type": "markdown",
      "source": [
        "#  Quantized Models from the Hugging Face Community"
      ],
      "metadata": {
        "id": "GSeedwAFSay9"
      }
    },
    {
      "cell_type": "markdown",
      "source": [
        "Fortunately, the Hugging Face community provides quantized models in `safetensor format`. This allows us to use the model on the T4 GPU efficiently, effectively and more safely.\n",
        "\n",
        "There are various variations, but the ones that interest us are those based on the GPTQ algorithm.\n",
        "\n",
        "We can see the different variations that WizardCoder has [here](https://huggingface.co/models?search=wizardcoder).\n",
        "\n",
        "\n",
        "\n",
        "In this case, we will use the model called [WizardCoder-Guanaco-15B-V1.1-GPTQ](https://huggingface.co/TheBloke/WizardCoder-Guanaco-15B-V1.1-GPTQ), which is a finetuned model using the dataset from [openassistant-guanaco](https://huggingface.co/datasets/timdettmers/openassistant-guanaco)."
      ],
      "metadata": {
        "id": "4QwfjGFYRM4g"
      }
    },
    {
      "cell_type": "markdown",
      "source": [
        "![img.png](data:image/png;base64,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)"
      ],
      "metadata": {
        "id": "aZ0haSO07wxp"
      }
    },
    {
      "cell_type": "code",
      "source": [
        "model_name_or_path = \"TheBloke/WizardCoder-Guanaco-15B-V1.1-GPTQ\"\n",
        "model_basename = \"gptq_model-4bit-128g\""
      ],
      "metadata": {
        "id": "oI-kXwg5bHF-"
      },
      "execution_count": null,
      "outputs": []
    },
    {
      "cell_type": "markdown",
      "source": [
        "First, we load the model."
      ],
      "metadata": {
        "id": "8Td05XSuiWdI"
      }
    },
    {
      "cell_type": "code",
      "source": [
        "from transformers import AutoTokenizer, pipeline, logging\n",
        "from auto_gptq import AutoGPTQForCausalLM, BaseQuantizeConfig\n",
        "\n",
        "# AutoGPTQ supports using triton to speedup inference, but it currently only supports Linux | pip install auto-gptq[triton]\n",
        "use_triton = False\n",
        "\n",
        "tokenizer = AutoTokenizer.from_pretrained(model_name_or_path, use_fast=True)\n",
        "\n",
        "model = AutoGPTQForCausalLM.from_quantized(model_name_or_path,\n",
        "        model_basename=model_basename,\n",
        "        #revision=\"gptq-4bit-32g-actorder_True\", # from a specific branch, use the revision parameter, else commet this line\n",
        "        use_safetensors=True,\n",
        "        trust_remote_code=False,\n",
        "        device=\"cuda:0\",\n",
        "        use_triton=use_triton,\n",
        "        quantize_config=None\n",
        "        )"
      ],
      "metadata": {
        "colab": {
          "base_uri": "https://localhost:8080/"
        },
        "id": "eekJ9-R5NQJy",
        "outputId": "0582133b-fe8c-481f-c055-2720ffd6bdef"
      },
      "execution_count": null,
      "outputs": [
        {
          "output_type": "stream",
          "name": "stderr",
          "text": [
            "WARNING:accelerate.utils.modeling:The safetensors archive passed at /root/.cache/huggingface/hub/models--TheBloke--WizardCoder-Guanaco-15B-V1.1-GPTQ/snapshots/29f7b2b409b85f3df9efa3e54087779d02f2dd32/gptq_model-4bit-128g.safetensors does not contain metadata. Make sure to save your model with the `save_pretrained` method. Defaulting to 'pt' metadata.\n",
            "WARNING:auto_gptq.modeling._base:GPTBigCodeGPTQForCausalLM hasn't fused attention module yet, will skip inject fused attention.\n",
            "WARNING:auto_gptq.modeling._base:GPTBigCodeGPTQForCausalLM hasn't fused mlp module yet, will skip inject fused mlp.\n"
          ]
        }
      ]
    },
    {
      "cell_type": "markdown",
      "source": [
        "We can obtain information about the model's configuration with"
      ],
      "metadata": {
        "id": "EK7i2mUoT5Bg"
      }
    },
    {
      "cell_type": "code",
      "source": [
        "model.config"
      ],
      "metadata": {
        "colab": {
          "base_uri": "https://localhost:8080/"
        },
        "id": "InhMrUKnT88S",
        "outputId": "48c06827-eb7a-472a-8151-420d5b2afe94"
      },
      "execution_count": null,
      "outputs": [
        {
          "output_type": "execute_result",
          "data": {
            "text/plain": [
              "GPTBigCodeConfig {\n",
              "  \"_name_or_path\": \"TheBloke/WizardCoder-Guanaco-15B-V1.1-GPTQ\",\n",
              "  \"activation_function\": \"gelu\",\n",
              "  \"architectures\": [\n",
              "    \"GPTBigCodeForCausalLM\"\n",
              "  ],\n",
              "  \"attention_softmax_in_fp32\": true,\n",
              "  \"attn_pdrop\": 0.1,\n",
              "  \"bos_token_id\": 0,\n",
              "  \"embd_pdrop\": 0.1,\n",
              "  \"eos_token_id\": 0,\n",
              "  \"inference_runner\": 0,\n",
              "  \"initializer_range\": 0.02,\n",
              "  \"layer_norm_epsilon\": 1e-05,\n",
              "  \"max_batch_size\": null,\n",
              "  \"max_sequence_length\": null,\n",
              "  \"model_type\": \"gpt_bigcode\",\n",
              "  \"multi_query\": true,\n",
              "  \"n_embd\": 6144,\n",
              "  \"n_head\": 48,\n",
              "  \"n_inner\": 24576,\n",
              "  \"n_layer\": 40,\n",
              "  \"n_positions\": 8192,\n",
              "  \"pad_key_length\": true,\n",
              "  \"pre_allocate_kv_cache\": false,\n",
              "  \"resid_pdrop\": 0.1,\n",
              "  \"scale_attention_softmax_in_fp32\": true,\n",
              "  \"scale_attn_weights\": true,\n",
              "  \"summary_activation\": null,\n",
              "  \"summary_first_dropout\": 0.1,\n",
              "  \"summary_proj_to_labels\": true,\n",
              "  \"summary_type\": \"cls_index\",\n",
              "  \"summary_use_proj\": true,\n",
              "  \"torch_dtype\": \"float16\",\n",
              "  \"transformers_version\": \"4.30.2\",\n",
              "  \"use_cache\": true,\n",
              "  \"validate_runner_input\": true,\n",
              "  \"vocab_size\": 49153\n",
              "}"
            ]
          },
          "metadata": {},
          "execution_count": 5
        }
      ]
    },
    {
      "cell_type": "markdown",
      "source": [
        "And the quantization configuration that was used."
      ],
      "metadata": {
        "id": "n6K_nhTiUCOv"
      }
    },
    {
      "cell_type": "code",
      "source": [
        "model.quantize_config"
      ],
      "metadata": {
        "colab": {
          "base_uri": "https://localhost:8080/"
        },
        "id": "f2bhhlhJUBxM",
        "outputId": "c6b0ec58-1877-4ec0-b592-dcafce8af88c"
      },
      "execution_count": null,
      "outputs": [
        {
          "output_type": "execute_result",
          "data": {
            "text/plain": [
              "BaseQuantizeConfig(bits=4, group_size=128, damp_percent=0.01, desc_act=False, sym=True, true_sequential=True, model_name_or_path='TheBloke/WizardCoder-Guanaco-15B-V1.1-GPTQ', model_file_base_name='gptq_model-4bit-128g')"
            ]
          },
          "metadata": {},
          "execution_count": 6
        }
      ]
    },
    {
      "cell_type": "markdown",
      "source": [
        "# Inference"
      ],
      "metadata": {
        "id": "max1jwxvCSbm"
      }
    },
    {
      "cell_type": "markdown",
      "source": [
        "We will use this prompt."
      ],
      "metadata": {
        "id": "qLEEOufGVlID"
      }
    },
    {
      "cell_type": "code",
      "source": [
        "prompt = \"Write a linear regresion in python\"\n",
        "prompt_template=f'''Below is an instruction that describes a task. Write a response that appropriately completes the request.\n",
        "\n",
        "### Instruction: {prompt}\n",
        "\n",
        "### Response:\n",
        "'''"
      ],
      "metadata": {
        "id": "-NzVIlMCVoVD"
      },
      "execution_count": null,
      "outputs": []
    },
    {
      "cell_type": "markdown",
      "source": [
        "## Inference with transformers pipeline"
      ],
      "metadata": {
        "id": "j-jkIjITVDW6"
      }
    },
    {
      "cell_type": "code",
      "source": [
        "logging.set_verbosity(logging.CRITICAL)\n",
        "\n",
        "pipe = pipeline(\n",
        "    task=\"text-generation\",\n",
        "    model=model,\n",
        "    tokenizer=tokenizer,\n",
        "    max_new_tokens=256,\n",
        "    temperature=0.7,\n",
        "    top_p=0.95,\n",
        "    repetition_penalty=1.15\n",
        ")\n",
        "\n",
        "print(pipe(prompt_template)[0]['generated_text'])\n"
      ],
      "metadata": {
        "colab": {
          "base_uri": "https://localhost:8080/"
        },
        "id": "iIXvwGxbRn6F",
        "outputId": "744117b3-d1f2-4aee-89ac-81f58879974c"
      },
      "execution_count": null,
      "outputs": [
        {
          "output_type": "stream",
          "name": "stdout",
          "text": [
            "Below is an instruction that describes a task. Write a response that appropriately completes the request.\n",
            "\n",
            "### Instruction: Write a linear regresion in python\n",
            "\n",
            "### Response:\n",
            "A Linear Regression model in Python can be implemented using scikit-learn library's `LinearRegression` class, which provides methods for fitting a regression line to data and predicting target values. Here are some steps you would follow when implementing this:\n",
            "\n",
            "1. Import necessary libraries like numpy and sklearn.linear_model\n",
            "    ```python\n",
            "    import numpy as np \n",
            "    from sklearn.linear_model import LinearRegression\n",
            "    ```\n",
            "    \n",
            "2. Generate random input data (X) with 100 samples and one independent variable (x). The relationship between X and y will be defined later on during training process.\n",
            "\n",
            "    ```python\n",
            "    x = np.random.rand(100,)  \n",
            "    noise = np.random.normal(loc=0, scale=5, size=(100,)) # add normal noise\n",
            "    y = 3*x + 4 + noise   # create a noisy sine wave signal\n",
            "    print(\"Shape of our dataset:\", x.shape, y.shape)\n",
            "    ```\n",
            "    \n",
            "    This code generates 100 random numbers ranging from [0,1] representing our independent variables 'x'. It then adds normally distributed noise to each point within range [-5,+5]. Finally it creates a noisy version of\n"
          ]
        }
      ]
    },
    {
      "cell_type": "markdown",
      "source": [
        "## Inference with model.generate"
      ],
      "metadata": {
        "id": "3L4n6u7oCLxO"
      }
    },
    {
      "cell_type": "code",
      "source": [
        "input_ids = tokenizer(prompt_template, return_tensors='pt').input_ids.cuda()\n",
        "\n",
        "output = model.generate(\n",
        "    inputs=input_ids,\n",
        "    max_new_tokens=256,\n",
        "    temperature=0.7,\n",
        "    top_p=0.95,\n",
        "    repetition_penalty=1.15\n",
        "    )\n",
        "\n",
        "print(tokenizer.decode(output[0]))"
      ],
      "metadata": {
        "colab": {
          "base_uri": "https://localhost:8080/"
        },
        "id": "EWOF4VoDOqmw",
        "outputId": "2a0874f9-9f36-49bd-a11f-b09dca6d9088"
      },
      "execution_count": null,
      "outputs": [
        {
          "output_type": "stream",
          "name": "stdout",
          "text": [
            "Below is an instruction that describes a task. Write a response that appropriately completes the request.\n",
            "\n",
            "### Instruction: Write a linear regresion in python\n",
            "\n",
            "### Response:\n",
            "A Linear Regression model in Python can be implemented using scikit-learn library's `LinearRegression` class, which provides methods for fitting a regression line to data and predicting target values. Here are some steps you would follow when implementing this:\n",
            "\n",
            "1. Import necessary libraries like numpy and sklearn.linear_model\n",
            "    ```python\n",
            "    import numpy as np \n",
            "    from sklearn.linear_model import LinearRegression\n",
            "    ```\n",
            "    \n",
            "2. Generate random input data (X) with 100 samples and one independent variable (x). The relationship between X and y will be defined later on during training process.\n",
            "\n",
            "    ```python\n",
            "    x = np.random.rand(100,)  \n",
            "    noise = np.random.normal(loc=0, scale=5, size=(100,)) # add normal noise\n",
            "    y = 3*x + 4 + noise   # create a noisy sine wave signal\n",
            "    print(\"Shape of our dataset:\", x.shape, y.shape)\n",
            "    ```\n",
            "    \n",
            "    This code generates 100 random numbers ranging from [0,1] representing our independent variables 'x'. It then adds normally distributed noise to each point within range [-5,+5]. Finally it creates a noisy version of\n"
          ]
        }
      ]
    },
    {
      "cell_type": "markdown",
      "source": [
        "# Real-time output (stream tokens)"
      ],
      "metadata": {
        "id": "nQXhWYtNZM48"
      }
    },
    {
      "cell_type": "markdown",
      "source": [
        "Real-time output allows continuous display of generated text as it is processed."
      ],
      "metadata": {
        "id": "HilKEtSGgPjm"
      }
    },
    {
      "cell_type": "markdown",
      "source": [
        "## Basic token streaming\n",
        "\n"
      ],
      "metadata": {
        "id": "RVMq1jKOB5vg"
      }
    },
    {
      "cell_type": "markdown",
      "source": [
        "You can appreciate an example of how it is implemented in Gradio [here](https://huggingface.co/spaces/joaogante/transformers_streaming)."
      ],
      "metadata": {
        "id": "syyqQWYQYY7j"
      }
    },
    {
      "cell_type": "code",
      "source": [
        "import sys\n",
        "import time\n",
        "\n",
        "def real_time_print(string):\n",
        "    for char in string:\n",
        "        sys.stdout.write(char)\n",
        "        sys.stdout.flush()\n",
        "        time.sleep(0.1)  # adjust the sleep time to control the printing speed"
      ],
      "metadata": {
        "id": "GkiPYZc_2Z4V"
      },
      "execution_count": null,
      "outputs": []
    },
    {
      "cell_type": "code",
      "source": [
        "from transformers import AutoTokenizer, AutoModelForSeq2SeqLM, TextIteratorStreamer\n",
        "from threading import Thread\n",
        "\n",
        "model_inputs = tokenizer([prompt_template], return_tensors=\"pt\").to('cuda')\n",
        "\n",
        "# Adds timeout to the streamer to handle exceptions in the generation thread.\n",
        "streamer = TextIteratorStreamer(tokenizer, timeout=10., skip_prompt=True, skip_special_tokens=True)\n",
        "generate_kwargs = dict(\n",
        "    model_inputs,\n",
        "    streamer=streamer,\n",
        "    max_new_tokens=2000,\n",
        "    do_sample=True,\n",
        "    top_p=0.9,\n",
        "    temperature=float(0.7),\n",
        "    top_k=40\n",
        ")\n",
        "t = Thread(target=model.generate, kwargs=generate_kwargs)\n",
        "t.start()\n",
        "\n",
        "# Pull the generated text from the streamer, and update the model output.\n",
        "model_output = \"\"\n",
        "for new_text in streamer:\n",
        "    model_output += new_text\n",
        "    real_time_print(new_text)"
      ],
      "metadata": {
        "colab": {
          "base_uri": "https://localhost:8080/"
        },
        "id": "7hI_HA200Ugr",
        "outputId": "bec372a9-1b12-43dc-985d-f8d6f77efb8e"
      },
      "execution_count": null,
      "outputs": [
        {
          "output_type": "stream",
          "name": "stdout",
          "text": [
            "\n",
            "A linear regression in Python is a type of statistical analysis that uses a linear model to relate dependent variables to independent variables. Here's a simple example of how to do it using the statsmodels library:\n",
            "\n",
            "```python\n",
            "import numpy as np\n",
            "import pandas as pd\n",
            "from statsmodels.regression.linear_model import OLS\n",
            "\n",
            "# Create a dataset\n",
            "data = {'X1': [1, 2, 3, 4, 5], 'X2': [2, 3, 4, 5, 6], 'Y': [1, 2, 3, 4, 5]}\n",
            "df = pd.DataFrame(data)\n",
            "\n",
            "# Create a linear regression model\n",
            "X = df[['X1', 'X2']]\n",
            "y = df['Y']\n",
            "model = OLS(y, X)\n",
            "\n",
            "# Fit the model\n",
            "results = model.fit()\n",
            "\n",
            "# Print the coefficients\n",
            "print(results.params)\n",
            "```\n",
            "\n",
            "In this code, the `OLS` class is used to create a linear regression model. The `fit` method is then used to fit the model, which returns a results object with various statistical measures. The coefficients of the model are accessed through the `params` attribute.\n",
            "\n",
            "Please note that the `statsmodels` library in Python needs to be installed. If it's not installed, you can install it using pip:\n",
            "\n",
            "```\n",
            "pip install statsmodels\n",
            "```\n",
            "\n",
            "This code will generate a linear regression model where 'X1' and 'X2' are the independent variables and 'Y' is the dependent variable. The coefficients of the model will be printed to the console."
          ]
        }
      ]
    },
    {
      "cell_type": "markdown",
      "source": [
        "## Batch token streaming\n",
        "\"This method can improve the inference time.\""
      ],
      "metadata": {
        "id": "cvh_pS9SBE5t"
      }
    },
    {
      "cell_type": "code",
      "source": [
        "import torch\n",
        "from IPython.display import Markdown, display\n",
        "\n",
        "def hr(): display(Markdown('---'))\n",
        "def cprint(msg: str, color: str = \"blue\", **kwargs) -> None:\n",
        "    color_codes = {\n",
        "        \"blue\": \"\\033[34m\",\n",
        "        \"red\": \"\\033[31m\",\n",
        "        \"green\": \"\\033[32m\",\n",
        "        \"yellow\": \"\\033[33m\",\n",
        "        \"purple\": \"\\033[35m\",\n",
        "        \"cyan\": \"\\033[36m\",\n",
        "    }\n",
        "\n",
        "    if color not in color_codes:\n",
        "        raise ValueError(f\"Invalid info color: `{color}`\")\n",
        "\n",
        "    print(color_codes[color] + msg + \"\\033[0m\", **kwargs)\n",
        "\n",
        "cprint('Function to give color to texts', color=\"green\")"
      ],
      "metadata": {
        "colab": {
          "base_uri": "https://localhost:8080/"
        },
        "id": "-EKO4PdE0TU7",
        "outputId": "ed7569ad-e7ec-4d99-de21-bf8f23fd70f5"
      },
      "execution_count": null,
      "outputs": [
        {
          "output_type": "stream",
          "name": "stdout",
          "text": [
            "\u001b[32mFunction to give color to texts\u001b[0m\n"
          ]
        }
      ]
    },
    {
      "cell_type": "code",
      "source": [
        "from transformers import AutoModelForCausalLM, AutoTokenizer, StoppingCriteria, StoppingCriteriaList\n",
        "from threading import Thread\n",
        "from IPython.display import clear_output\n",
        "\n",
        "model_inputs = tokenizer([prompt_template], return_tensors=\"pt\").to('cuda')\n",
        "\n",
        "# in the main thread. Adds timeout to the streamer to handle exceptions in the generation thread.\n",
        "streamer = TextIteratorStreamer(tokenizer, timeout=10., skip_prompt=True, skip_special_tokens=True)\n",
        "generate_kwargs = dict(\n",
        "    model_inputs,\n",
        "    streamer=streamer,\n",
        "    max_new_tokens=2000,\n",
        "    do_sample=True,\n",
        "    top_p=0.9,\n",
        "    temperature=float(0.7),\n",
        "    top_k=40\n",
        ")\n",
        "t = Thread(target=model.generate, kwargs=generate_kwargs)\n",
        "t.start()\n",
        "\n",
        "# Pull the generated text from the streamer, and update the model output.\n",
        "model_output = \"\"\n",
        "count= 0\n",
        "token_batch = 50\n",
        "\n",
        "for new_text in streamer:\n",
        "    model_output += new_text\n",
        "    count += 1\n",
        "    if count == token_batch:\n",
        "      count = 0\n",
        "\n",
        "      clear_output(wait=False)\n",
        "      cprint(prompt_template)\n",
        "      hr()\n",
        "      cprint(model_output, color=\"green\")\n",
        "\n",
        "clear_output(wait=False)\n",
        "cprint(prompt_template)\n",
        "hr()\n",
        "cprint(model_output, color=\"green\")"
      ],
      "metadata": {
        "id": "Hy7l8EatzEMh",
        "colab": {
          "base_uri": "https://localhost:8080/",
          "height": 1000
        },
        "outputId": "af38ca74-3d21-4bdf-9bb5-726e55caf603"
      },
      "execution_count": null,
      "outputs": [
        {
          "output_type": "stream",
          "name": "stdout",
          "text": [
            "\u001b[34mBelow is an instruction that describes a task. Write a response that appropriately completes the request.\n",
            "\n",
            "### Instruction: Write a linear regresion in python\n",
            "\n",
            "### Response:\n",
            "\u001b[0m\n"
          ]
        },
        {
          "output_type": "display_data",
          "data": {
            "text/plain": [
              "<IPython.core.display.Markdown object>"
            ],
            "text/markdown": "---"
          },
          "metadata": {}
        },
        {
          "output_type": "stream",
          "name": "stdout",
          "text": [
            "\u001b[32m\n",
            "Here is an example of a simple linear regression in Python using the scikit-learn library. This code performs a simple linear regression on a dataset to predict the price of a house.\n",
            "\n",
            "```python\n",
            "from sklearn.linear_model import LinearRegression\n",
            "from sklearn.model_selection import train_test_split\n",
            "import pandas as pd\n",
            "import numpy as np\n",
            "\n",
            "# Load the dataset\n",
            "data = pd.read_csv('house_data.csv')\n",
            "\n",
            "# Split the data into training and testing sets\n",
            "X = data['Size']\n",
            "y = data['Price']\n",
            "X_train, X_test, y_train, y_test = train_test_split(X, y, test_size=0.2, random_state=42)\n",
            "\n",
            "# Create a linear regression model\n",
            "model = LinearRegression()\n",
            "\n",
            "# Train the model on the training data\n",
            "model.fit(X_train.values.reshape(-1, 1), y_train.values.reshape(-1, 1))\n",
            "\n",
            "# Make predictions on the test data\n",
            "y_pred = model.predict(X_test.values.reshape(-1, 1))\n",
            "\n",
            "# Calculate the mean squared error (MSE)\n",
            "mse = np.mean((y_pred - y_test)**2)\n",
            "\n",
            "# Print the coefficient and intercept of the model\n",
            "print(f'Coefficient: {model.coef_[0][0]}')\n",
            "print(f'Intercept: {model.intercept_[0]}')\n",
            "\n",
            "# Print the mean squared error\n",
            "print(f'Mean squared error: {mse}')\n",
            "```\n",
            "\n",
            "In this code:\n",
            "\n",
            "- We first import the necessary libraries: pandas for data manipulation, numpy for mathematical operations, scikit-learn for linear regression.\n",
            "\n",
            "- We then load the dataset into a pandas dataframe.\n",
            "\n",
            "- We split the dataset into training and testing sets using `train_test_split` function from scikit-learn library.\n",
            "\n",
            "- We create a linear regression model using `LinearRegression` class from scikit-learn library.\n",
            "\n",
            "- We train the model on the training data using the `fit` method.\n",
            "\n",
            "- We predict the values of y on the test data using the `predict` method.\n",
            "\n",
            "- We calculate the mean squared error (MSE) by calculating the mean of the squared differences between actual and predicted values.\n",
            "\n",
            "- We print the coefficient and intercept of the model.\n",
            "\n",
            "- Finally, we print the mean squared error.\n",
            "\n",
            "This code assumes that the input data is in the form of a pandas dataframe with 'Size' and 'Price' columns. If your data is in a different format, you'll need to adjust the code accordingly.\u001b[0m\n"
          ]
        }
      ]
    }
  ]
}