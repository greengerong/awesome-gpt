{
  "nbformat": 4,
  "nbformat_minor": 0,
  "metadata": {
    "colab": {
      "provenance": [],
      "gpuType": "T4",
      "authorship_tag": "ABX9TyP016iOkHtXuVyWnzp3iv+v",
      "include_colab_link": true
    },
    "kernelspec": {
      "name": "python3",
      "display_name": "Python 3"
    },
    "language_info": {
      "name": "python"
    },
    "accelerator": "GPU"
  },
  "cells": [
    {
      "cell_type": "markdown",
      "metadata": {
        "id": "view-in-github",
        "colab_type": "text"
      },
      "source": [
        "<a href=\"https://colab.research.google.com/github/greengerong/awesome-llm/blob/main/colab/MagicClothing.ipynb\" target=\"_parent\"><img src=\"https://colab.research.google.com/assets/colab-badge.svg\" alt=\"Open In Colab\"/></a>"
      ]
    },
    {
      "cell_type": "markdown",
      "source": [
        "# 环境"
      ],
      "metadata": {
        "id": "2YbcqJvwQjZZ"
      }
    },
    {
      "cell_type": "code",
      "execution_count": 1,
      "metadata": {
        "colab": {
          "base_uri": "https://localhost:8080/"
        },
        "id": "gxCHUfTdQgeI",
        "outputId": "92123724-dff5-4bbb-e3fa-1f53c7aa1419"
      },
      "outputs": [
        {
          "output_type": "stream",
          "name": "stdout",
          "text": [
            "Cloning into 'MagicClothing'...\n",
            "remote: Enumerating objects: 229, done.\u001b[K\n",
            "remote: Counting objects: 100% (91/91), done.\u001b[K\n",
            "remote: Compressing objects: 100% (60/60), done.\u001b[K\n",
            "remote: Total 229 (delta 59), reused 53 (delta 31), pack-reused 138\u001b[K\n",
            "Receiving objects: 100% (229/229), 17.87 MiB | 32.49 MiB/s, done.\n",
            "Resolving deltas: 100% (107/107), done.\n",
            "\u001b[2K     \u001b[90m━━━━━━━━━━━━━━━━━━━━━━━━━━━━━━━━━━━━━━━━\u001b[0m \u001b[32m619.9/619.9 MB\u001b[0m \u001b[31m2.2 MB/s\u001b[0m eta \u001b[36m0:00:00\u001b[0m\n",
            "\u001b[2K     \u001b[90m━━━━━━━━━━━━━━━━━━━━━━━━━━━━━━━━━━━━━━━━\u001b[0m \u001b[32m6.0/6.0 MB\u001b[0m \u001b[31m15.6 MB/s\u001b[0m eta \u001b[36m0:00:00\u001b[0m\n",
            "\u001b[2K     \u001b[90m━━━━━━━━━━━━━━━━━━━━━━━━━━━━━━━━━━━━━━━━\u001b[0m \u001b[32m17.6/17.6 MB\u001b[0m \u001b[31m15.0 MB/s\u001b[0m eta \u001b[36m0:00:00\u001b[0m\n",
            "\u001b[2K     \u001b[90m━━━━━━━━━━━━━━━━━━━━━━━━━━━━━━━━━━━━━━━━\u001b[0m \u001b[32m1.8/1.8 MB\u001b[0m \u001b[31m15.6 MB/s\u001b[0m eta \u001b[36m0:00:00\u001b[0m\n",
            "\u001b[2K     \u001b[90m━━━━━━━━━━━━━━━━━━━━━━━━━━━━━━━━━━━━━━━━\u001b[0m \u001b[32m62.2/62.2 MB\u001b[0m \u001b[31m6.8 MB/s\u001b[0m eta \u001b[36m0:00:00\u001b[0m\n",
            "\u001b[2K     \u001b[90m━━━━━━━━━━━━━━━━━━━━━━━━━━━━━━━━━━━━━━━━\u001b[0m \u001b[32m7.4/7.4 MB\u001b[0m \u001b[31m18.2 MB/s\u001b[0m eta \u001b[36m0:00:00\u001b[0m\n",
            "\u001b[2K     \u001b[90m━━━━━━━━━━━━━━━━━━━━━━━━━━━━━━━━━━━━━━━━\u001b[0m \u001b[32m16.7/16.7 MB\u001b[0m \u001b[31m17.8 MB/s\u001b[0m eta \u001b[36m0:00:00\u001b[0m\n",
            "\u001b[2K     \u001b[90m━━━━━━━━━━━━━━━━━━━━━━━━━━━━━━━━━━━━━━━━\u001b[0m \u001b[32m1.3/1.3 MB\u001b[0m \u001b[31m20.1 MB/s\u001b[0m eta \u001b[36m0:00:00\u001b[0m\n",
            "\u001b[2K     \u001b[90m━━━━━━━━━━━━━━━━━━━━━━━━━━━━━━━━━━━━━━━━\u001b[0m \u001b[32m261.9/261.9 kB\u001b[0m \u001b[31m18.0 MB/s\u001b[0m eta \u001b[36m0:00:00\u001b[0m\n",
            "\u001b[2K     \u001b[90m━━━━━━━━━━━━━━━━━━━━━━━━━━━━━━━━━━━━━━━━\u001b[0m \u001b[32m244.2/244.2 kB\u001b[0m \u001b[31m17.9 MB/s\u001b[0m eta \u001b[36m0:00:00\u001b[0m\n",
            "\u001b[2K     \u001b[90m━━━━━━━━━━━━━━━━━━━━━━━━━━━━━━━━━━━━━━━━\u001b[0m \u001b[32m21.0/21.0 MB\u001b[0m \u001b[31m18.4 MB/s\u001b[0m eta \u001b[36m0:00:00\u001b[0m\n",
            "\u001b[2K     \u001b[90m━━━━━━━━━━━━━━━━━━━━━━━━━━━━━━━━━━━━━━━━\u001b[0m \u001b[32m849.3/849.3 kB\u001b[0m \u001b[31m19.0 MB/s\u001b[0m eta \u001b[36m0:00:00\u001b[0m\n",
            "\u001b[2K     \u001b[90m━━━━━━━━━━━━━━━━━━━━━━━━━━━━━━━━━━━━━━━━\u001b[0m \u001b[32m11.8/11.8 MB\u001b[0m \u001b[31m21.5 MB/s\u001b[0m eta \u001b[36m0:00:00\u001b[0m\n",
            "\u001b[2K     \u001b[90m━━━━━━━━━━━━━━━━━━━━━━━━━━━━━━━━━━━━━━━━\u001b[0m \u001b[32m557.1/557.1 MB\u001b[0m \u001b[31m1.1 MB/s\u001b[0m eta \u001b[36m0:00:00\u001b[0m\n",
            "\u001b[2K     \u001b[90m━━━━━━━━━━━━━━━━━━━━━━━━━━━━━━━━━━━━━━━━\u001b[0m \u001b[32m317.1/317.1 MB\u001b[0m \u001b[31m4.9 MB/s\u001b[0m eta \u001b[36m0:00:00\u001b[0m\n",
            "\u001b[2K     \u001b[90m━━━━━━━━━━━━━━━━━━━━━━━━━━━━━━━━━━━━━━━━\u001b[0m \u001b[32m168.4/168.4 MB\u001b[0m \u001b[31m2.4 MB/s\u001b[0m eta \u001b[36m0:00:00\u001b[0m\n",
            "\u001b[2K     \u001b[90m━━━━━━━━━━━━━━━━━━━━━━━━━━━━━━━━━━━━━━━━\u001b[0m \u001b[32m54.6/54.6 MB\u001b[0m \u001b[31m9.5 MB/s\u001b[0m eta \u001b[36m0:00:00\u001b[0m\n",
            "\u001b[2K     \u001b[90m━━━━━━━━━━━━━━━━━━━━━━━━━━━━━━━━━━━━━━━━\u001b[0m \u001b[32m102.6/102.6 MB\u001b[0m \u001b[31m8.8 MB/s\u001b[0m eta \u001b[36m0:00:00\u001b[0m\n",
            "\u001b[2K     \u001b[90m━━━━━━━━━━━━━━━━━━━━━━━━━━━━━━━━━━━━━━━━\u001b[0m \u001b[32m173.2/173.2 MB\u001b[0m \u001b[31m6.9 MB/s\u001b[0m eta \u001b[36m0:00:00\u001b[0m\n",
            "\u001b[2K     \u001b[90m━━━━━━━━━━━━━━━━━━━━━━━━━━━━━━━━━━━━━━━━\u001b[0m \u001b[32m177.1/177.1 MB\u001b[0m \u001b[31m2.4 MB/s\u001b[0m eta \u001b[36m0:00:00\u001b[0m\n",
            "\u001b[2K     \u001b[90m━━━━━━━━━━━━━━━━━━━━━━━━━━━━━━━━━━━━━━━━\u001b[0m \u001b[32m98.6/98.6 kB\u001b[0m \u001b[31m12.9 MB/s\u001b[0m eta \u001b[36m0:00:00\u001b[0m\n",
            "\u001b[2K     \u001b[90m━━━━━━━━━━━━━━━━━━━━━━━━━━━━━━━━━━━━━━━━\u001b[0m \u001b[32m63.3/63.3 MB\u001b[0m \u001b[31m9.5 MB/s\u001b[0m eta \u001b[36m0:00:00\u001b[0m\n",
            "\u001b[2K     \u001b[90m━━━━━━━━━━━━━━━━━━━━━━━━━━━━━━━━━━━━━━━━\u001b[0m \u001b[32m7.8/7.8 MB\u001b[0m \u001b[31m65.6 MB/s\u001b[0m eta \u001b[36m0:00:00\u001b[0m\n",
            "\u001b[2K     \u001b[90m━━━━━━━━━━━━━━━━━━━━━━━━━━━━━━━━━━━━━━━━\u001b[0m \u001b[32m92.1/92.1 kB\u001b[0m \u001b[31m11.5 MB/s\u001b[0m eta \u001b[36m0:00:00\u001b[0m\n",
            "\u001b[?25h  Preparing metadata (setup.py) ... \u001b[?25l\u001b[?25hdone\n",
            "\u001b[2K     \u001b[90m━━━━━━━━━━━━━━━━━━━━━━━━━━━━━━━━━━━━━━━━\u001b[0m \u001b[32m305.2/305.2 kB\u001b[0m \u001b[31m32.9 MB/s\u001b[0m eta \u001b[36m0:00:00\u001b[0m\n",
            "\u001b[2K     \u001b[90m━━━━━━━━━━━━━━━━━━━━━━━━━━━━━━━━━━━━━━━━\u001b[0m \u001b[32m75.6/75.6 kB\u001b[0m \u001b[31m9.3 MB/s\u001b[0m eta \u001b[36m0:00:00\u001b[0m\n",
            "\u001b[2K     \u001b[90m━━━━━━━━━━━━━━━━━━━━━━━━━━━━━━━━━━━━━━━━\u001b[0m \u001b[32m144.8/144.8 kB\u001b[0m \u001b[31m18.2 MB/s\u001b[0m eta \u001b[36m0:00:00\u001b[0m\n",
            "\u001b[2K     \u001b[90m━━━━━━━━━━━━━━━━━━━━━━━━━━━━━━━━━━━━━━━━\u001b[0m \u001b[32m8.7/8.7 MB\u001b[0m \u001b[31m60.9 MB/s\u001b[0m eta \u001b[36m0:00:00\u001b[0m\n",
            "\u001b[2K     \u001b[90m━━━━━━━━━━━━━━━━━━━━━━━━━━━━━━━━━━━━━━━━\u001b[0m \u001b[32m60.8/60.8 kB\u001b[0m \u001b[31m7.4 MB/s\u001b[0m eta \u001b[36m0:00:00\u001b[0m\n",
            "\u001b[2K     \u001b[90m━━━━━━━━━━━━━━━━━━━━━━━━━━━━━━━━━━━━━━━━\u001b[0m \u001b[32m44.6/44.6 kB\u001b[0m \u001b[31m5.0 MB/s\u001b[0m eta \u001b[36m0:00:00\u001b[0m\n",
            "\u001b[2K     \u001b[90m━━━━━━━━━━━━━━━━━━━━━━━━━━━━━━━━━━━━━━━━\u001b[0m \u001b[32m2.2/2.2 MB\u001b[0m \u001b[31m60.5 MB/s\u001b[0m eta \u001b[36m0:00:00\u001b[0m\n",
            "\u001b[2K     \u001b[90m━━━━━━━━━━━━━━━━━━━━━━━━━━━━━━━━━━━━━━━━\u001b[0m \u001b[32m129.9/129.9 kB\u001b[0m \u001b[31m16.9 MB/s\u001b[0m eta \u001b[36m0:00:00\u001b[0m\n",
            "\u001b[2K     \u001b[90m━━━━━━━━━━━━━━━━━━━━━━━━━━━━━━━━━━━━━━━━\u001b[0m \u001b[32m161.0/161.0 kB\u001b[0m \u001b[31m19.1 MB/s\u001b[0m eta \u001b[36m0:00:00\u001b[0m\n",
            "\u001b[?25h  Installing build dependencies ... \u001b[?25l\u001b[?25hdone\n",
            "  Getting requirements to build wheel ... \u001b[?25l\u001b[?25hdone\n",
            "  Installing backend dependencies ... \u001b[?25l\u001b[?25hdone\n",
            "  Preparing metadata (pyproject.toml) ... \u001b[?25l\u001b[?25hdone\n",
            "\u001b[2K     \u001b[90m━━━━━━━━━━━━━━━━━━━━━━━━━━━━━━━━━━━━━━━━\u001b[0m \u001b[32m58.3/58.3 kB\u001b[0m \u001b[31m8.0 MB/s\u001b[0m eta \u001b[36m0:00:00\u001b[0m\n",
            "\u001b[2K     \u001b[90m━━━━━━━━━━━━━━━━━━━━━━━━━━━━━━━━━━━━━━━━\u001b[0m \u001b[32m71.5/71.5 kB\u001b[0m \u001b[31m9.3 MB/s\u001b[0m eta \u001b[36m0:00:00\u001b[0m\n",
            "\u001b[2K     \u001b[90m━━━━━━━━━━━━━━━━━━━━━━━━━━━━━━━━━━━━━━━━\u001b[0m \u001b[32m77.9/77.9 kB\u001b[0m \u001b[31m9.9 MB/s\u001b[0m eta \u001b[36m0:00:00\u001b[0m\n",
            "\u001b[?25h  Building wheel for ffmpy (setup.py) ... \u001b[?25l\u001b[?25hdone\n",
            "  Building wheel for lit (pyproject.toml) ... \u001b[?25l\u001b[?25hdone\n",
            "\u001b[31mERROR: pip's dependency resolver does not currently take into account all the packages that are installed. This behaviour is the source of the following dependency conflicts.\n",
            "torchaudio 2.2.1+cu121 requires torch==2.2.1, but you have torch 2.0.1 which is incompatible.\n",
            "torchtext 0.17.1 requires torch==2.2.1, but you have torch 2.0.1 which is incompatible.\u001b[0m\u001b[31m\n",
            "\u001b[2K     \u001b[90m━━━━━━━━━━━━━━━━━━━━━━━━━━━━━━━━━━━━━━━━\u001b[0m \u001b[32m439.5/439.5 kB\u001b[0m \u001b[31m3.4 MB/s\u001b[0m eta \u001b[36m0:00:00\u001b[0m\n",
            "\u001b[?25h  Installing build dependencies ... \u001b[?25l\u001b[?25hdone\n",
            "  Getting requirements to build wheel ... \u001b[?25l\u001b[?25hdone\n",
            "  Installing backend dependencies ... \u001b[?25l\u001b[?25hdone\n",
            "  Preparing metadata (pyproject.toml) ... \u001b[?25l\u001b[?25hdone\n",
            "\u001b[2K     \u001b[90m━━━━━━━━━━━━━━━━━━━━━━━━━━━━━━━━━━━━━━━━\u001b[0m \u001b[32m6.8/6.8 MB\u001b[0m \u001b[31m41.6 MB/s\u001b[0m eta \u001b[36m0:00:00\u001b[0m\n",
            "\u001b[2K     \u001b[90m━━━━━━━━━━━━━━━━━━━━━━━━━━━━━━━━━━━━━━━━\u001b[0m \u001b[32m15.9/15.9 MB\u001b[0m \u001b[31m50.4 MB/s\u001b[0m eta \u001b[36m0:00:00\u001b[0m\n",
            "\u001b[2K     \u001b[90m━━━━━━━━━━━━━━━━━━━━━━━━━━━━━━━━━━━━━━━━\u001b[0m \u001b[32m46.0/46.0 kB\u001b[0m \u001b[31m5.9 MB/s\u001b[0m eta \u001b[36m0:00:00\u001b[0m\n",
            "\u001b[2K     \u001b[90m━━━━━━━━━━━━━━━━━━━━━━━━━━━━━━━━━━━━━━━━\u001b[0m \u001b[32m86.8/86.8 kB\u001b[0m \u001b[31m11.3 MB/s\u001b[0m eta \u001b[36m0:00:00\u001b[0m\n",
            "\u001b[?25h  Building wheel for insightface (pyproject.toml) ... \u001b[?25l\u001b[?25hdone\n"
          ]
        }
      ],
      "source": [
        "!git clone https://github.com/ShineChen1024/MagicClothing.git\n",
        "!pip install torch==2.0.1 torchvision==0.15.2 numpy==1.25.1 diffusers==0.25.1 opencv-python==4.9.0.80  transformers==4.31.0 gradio==4.16.0 safetensors==0.3.1 controlnet-aux==0.0.6 accelerate==0.21.0 -q -U\n",
        "!pip install -q insightface onnxruntime"
      ]
    },
    {
      "cell_type": "markdown",
      "source": [
        "# 模型推理"
      ],
      "metadata": {
        "id": "C4sPAzuYQ6Um"
      }
    },
    {
      "cell_type": "code",
      "source": [
        "%cd /content/MagicClothing/checkpoints\n",
        "!wget https://huggingface.co/ShineChen1024/MagicClothing/resolve/main/oms_diffusion_768_120000.safetensors?download=true -O oms_diffusion_768_120000.safetensors\n",
        "!wget https://huggingface.co/ShineChen1024/MagicClothing/resolve/main/cloth_segm.pth?download=true -O cloth_segm.pth\n",
        "\n",
        "%cd /content/MagicClothing/checkpoints/ipadapter_faceid/\n",
        "!wget https://huggingface.co/h94/IP-Adapter-FaceID/resolve/main/ip-adapter-faceid_sd15_lora.safetensors?download=true -O ip-adapter-faceid_sd15_lora.safetensors\n",
        "!wget https://huggingface.co/h94/IP-Adapter-FaceID/resolve/main/ip-adapter-faceid_sd15.bin?download=true -O ip-adapter-faceid_sd15.bin\n",
        "!wget https://huggingface.co/h94/IP-Adapter-FaceID/resolve/main/ip-adapter-faceid-plusv2_sd15_lora.safetensors?download=true -O ip-adapter-faceid-plusv2_sd15_lora.safetensors\n",
        "!wget https://huggingface.co/h94/IP-Adapter-FaceID/resolve/main/ip-adapter-faceid-plusv2_sd15.bin?download=true -O ip-adapter-faceid-plusv2_sd15.bin"
      ],
      "metadata": {
        "colab": {
          "base_uri": "https://localhost:8080/"
        },
        "id": "PKO0hxexVIaA",
        "outputId": "31d5f5df-be89-4ba4-9604-67406575a773"
      },
      "execution_count": 2,
      "outputs": [
        {
          "output_type": "stream",
          "name": "stdout",
          "text": [
            "/content/MagicClothing/checkpoints\n",
            "--2024-03-30 14:57:20--  https://huggingface.co/ShineChen1024/MagicClothing/resolve/main/oms_diffusion_768_120000.safetensors?download=true\n",
            "Resolving huggingface.co (huggingface.co)... 18.172.134.124, 18.172.134.24, 18.172.134.88, ...\n",
            "Connecting to huggingface.co (huggingface.co)|18.172.134.124|:443... connected.\n",
            "HTTP request sent, awaiting response... 302 Found\n",
            "Location: https://cdn-lfs-us-1.huggingface.co/repos/95/e0/95e0bea221cfc1b1931e4ae811f0d5f261756e5d123d9fc569cc08d38fd10e38/6650c10042c61f58113bc000560b5dd7bca0833056ff2757f668642acbee52d7?response-content-disposition=attachment%3B+filename*%3DUTF-8%27%27oms_diffusion_768_120000.safetensors%3B+filename%3D%22oms_diffusion_768_120000.safetensors%22%3B&Expires=1712069840&Policy=eyJTdGF0ZW1lbnQiOlt7IkNvbmRpdGlvbiI6eyJEYXRlTGVzc1RoYW4iOnsiQVdTOkVwb2NoVGltZSI6MTcxMjA2OTg0MH19LCJSZXNvdXJjZSI6Imh0dHBzOi8vY2RuLWxmcy11cy0xLmh1Z2dpbmdmYWNlLmNvL3JlcG9zLzk1L2UwLzk1ZTBiZWEyMjFjZmMxYjE5MzFlNGFlODExZjBkNWYyNjE3NTZlNWQxMjNkOWZjNTY5Y2MwOGQzOGZkMTBlMzgvNjY1MGMxMDA0MmM2MWY1ODExM2JjMDAwNTYwYjVkZDdiY2EwODMzMDU2ZmYyNzU3ZjY2ODY0MmFjYmVlNTJkNz9yZXNwb25zZS1jb250ZW50LWRpc3Bvc2l0aW9uPSoifV19&Signature=NJ4wUkbGEY60IvMisTDkyz5SScp6UlCryD71VQiwW6s%7EJLdHtleDg%7EOiyL1zqMoCvEp62hKS6k66sUtTjBS8cxwZFXhJZth1M1Ikwed5Sb9NqX182a6tuWdLMwXXUYXH2qaqot9CASlOGuRXWZx0e3-gsmUpyZqfvK0k8mZiW6IrijbMjcBPts5IGIP7NJ8IVkFpQYLtBq33JCDuxa6-puc5jiKfuxoSqlZWJRVavkWyEFMMRlYKvw0Z4vdLkws69QN6J2xw5Ci0WaPRe-%7EgMxXgwafHEh4E2GycbEXQR%7EgKb7z02QUkXZW5C47sPXaSxcEluLBLyV4E0gTiPeQjPw__&Key-Pair-Id=KCD77M1F0VK2B [following]\n",
            "--2024-03-30 14:57:20--  https://cdn-lfs-us-1.huggingface.co/repos/95/e0/95e0bea221cfc1b1931e4ae811f0d5f261756e5d123d9fc569cc08d38fd10e38/6650c10042c61f58113bc000560b5dd7bca0833056ff2757f668642acbee52d7?response-content-disposition=attachment%3B+filename*%3DUTF-8%27%27oms_diffusion_768_120000.safetensors%3B+filename%3D%22oms_diffusion_768_120000.safetensors%22%3B&Expires=1712069840&Policy=eyJTdGF0ZW1lbnQiOlt7IkNvbmRpdGlvbiI6eyJEYXRlTGVzc1RoYW4iOnsiQVdTOkVwb2NoVGltZSI6MTcxMjA2OTg0MH19LCJSZXNvdXJjZSI6Imh0dHBzOi8vY2RuLWxmcy11cy0xLmh1Z2dpbmdmYWNlLmNvL3JlcG9zLzk1L2UwLzk1ZTBiZWEyMjFjZmMxYjE5MzFlNGFlODExZjBkNWYyNjE3NTZlNWQxMjNkOWZjNTY5Y2MwOGQzOGZkMTBlMzgvNjY1MGMxMDA0MmM2MWY1ODExM2JjMDAwNTYwYjVkZDdiY2EwODMzMDU2ZmYyNzU3ZjY2ODY0MmFjYmVlNTJkNz9yZXNwb25zZS1jb250ZW50LWRpc3Bvc2l0aW9uPSoifV19&Signature=NJ4wUkbGEY60IvMisTDkyz5SScp6UlCryD71VQiwW6s%7EJLdHtleDg%7EOiyL1zqMoCvEp62hKS6k66sUtTjBS8cxwZFXhJZth1M1Ikwed5Sb9NqX182a6tuWdLMwXXUYXH2qaqot9CASlOGuRXWZx0e3-gsmUpyZqfvK0k8mZiW6IrijbMjcBPts5IGIP7NJ8IVkFpQYLtBq33JCDuxa6-puc5jiKfuxoSqlZWJRVavkWyEFMMRlYKvw0Z4vdLkws69QN6J2xw5Ci0WaPRe-%7EgMxXgwafHEh4E2GycbEXQR%7EgKb7z02QUkXZW5C47sPXaSxcEluLBLyV4E0gTiPeQjPw__&Key-Pair-Id=KCD77M1F0VK2B\n",
            "Resolving cdn-lfs-us-1.huggingface.co (cdn-lfs-us-1.huggingface.co)... 108.156.107.49, 108.156.107.44, 108.156.107.80, ...\n",
            "Connecting to cdn-lfs-us-1.huggingface.co (cdn-lfs-us-1.huggingface.co)|108.156.107.49|:443... connected.\n",
            "HTTP request sent, awaiting response... 200 OK\n",
            "Length: 3438118560 (3.2G) [binary/octet-stream]\n",
            "Saving to: ‘oms_diffusion_768_120000.safetensors’\n",
            "\n",
            "oms_diffusion_768_1 100%[===================>]   3.20G   194MB/s    in 21s     \n",
            "\n",
            "2024-03-30 14:57:41 (156 MB/s) - ‘oms_diffusion_768_120000.safetensors’ saved [3438118560/3438118560]\n",
            "\n",
            "--2024-03-30 14:57:41--  https://huggingface.co/ShineChen1024/MagicClothing/resolve/main/cloth_segm.pth?download=true\n",
            "Resolving huggingface.co (huggingface.co)... 18.172.134.124, 18.172.134.24, 18.172.134.88, ...\n",
            "Connecting to huggingface.co (huggingface.co)|18.172.134.124|:443... connected.\n",
            "HTTP request sent, awaiting response... 302 Found\n",
            "Location: https://cdn-lfs-us-1.huggingface.co/repos/95/e0/95e0bea221cfc1b1931e4ae811f0d5f261756e5d123d9fc569cc08d38fd10e38/f71fad2bc11789a996acc507d1a5a1602ae0edefc2b9aba1cd198be5cc9c1a44?response-content-disposition=attachment%3B+filename*%3DUTF-8%27%27cloth_segm.pth%3B+filename%3D%22cloth_segm.pth%22%3B&Expires=1712069861&Policy=eyJTdGF0ZW1lbnQiOlt7IkNvbmRpdGlvbiI6eyJEYXRlTGVzc1RoYW4iOnsiQVdTOkVwb2NoVGltZSI6MTcxMjA2OTg2MX19LCJSZXNvdXJjZSI6Imh0dHBzOi8vY2RuLWxmcy11cy0xLmh1Z2dpbmdmYWNlLmNvL3JlcG9zLzk1L2UwLzk1ZTBiZWEyMjFjZmMxYjE5MzFlNGFlODExZjBkNWYyNjE3NTZlNWQxMjNkOWZjNTY5Y2MwOGQzOGZkMTBlMzgvZjcxZmFkMmJjMTE3ODlhOTk2YWNjNTA3ZDFhNWExNjAyYWUwZWRlZmMyYjlhYmExY2QxOThiZTVjYzljMWE0ND9yZXNwb25zZS1jb250ZW50LWRpc3Bvc2l0aW9uPSoifV19&Signature=XDNGfd2uC6yzpWXFWO5oSEORt%7EerKKcqZuaUwQOZyDawNIVqG7qqZtLcxr0K1jV88NE9Ype8vdmSTWzqUjX2Zu3ZS-5ry0UBeAYQAfMYMnIsEajllEWfySuwjmMaA0IcaXshVLqp7Y3PiLpNSGB4r21019aseevckROSCSegR68ge5qPY9iPw5ObSZU6g9DWb7r38hC53y3Aw7aBcx%7EtGwdzQ9O5fdrDYT8MHJy77HOGgM5TAqVmenSqFgfa2SyPWBd5Zpsdw9NRkKsYIOx8yM6yG91UvsQxqsfnm7w9VcCxITtaQbpqKiHjr-Ap6AFveLCeP9lmfyGIOCK3J8P91g__&Key-Pair-Id=KCD77M1F0VK2B [following]\n",
            "--2024-03-30 14:57:42--  https://cdn-lfs-us-1.huggingface.co/repos/95/e0/95e0bea221cfc1b1931e4ae811f0d5f261756e5d123d9fc569cc08d38fd10e38/f71fad2bc11789a996acc507d1a5a1602ae0edefc2b9aba1cd198be5cc9c1a44?response-content-disposition=attachment%3B+filename*%3DUTF-8%27%27cloth_segm.pth%3B+filename%3D%22cloth_segm.pth%22%3B&Expires=1712069861&Policy=eyJTdGF0ZW1lbnQiOlt7IkNvbmRpdGlvbiI6eyJEYXRlTGVzc1RoYW4iOnsiQVdTOkVwb2NoVGltZSI6MTcxMjA2OTg2MX19LCJSZXNvdXJjZSI6Imh0dHBzOi8vY2RuLWxmcy11cy0xLmh1Z2dpbmdmYWNlLmNvL3JlcG9zLzk1L2UwLzk1ZTBiZWEyMjFjZmMxYjE5MzFlNGFlODExZjBkNWYyNjE3NTZlNWQxMjNkOWZjNTY5Y2MwOGQzOGZkMTBlMzgvZjcxZmFkMmJjMTE3ODlhOTk2YWNjNTA3ZDFhNWExNjAyYWUwZWRlZmMyYjlhYmExY2QxOThiZTVjYzljMWE0ND9yZXNwb25zZS1jb250ZW50LWRpc3Bvc2l0aW9uPSoifV19&Signature=XDNGfd2uC6yzpWXFWO5oSEORt%7EerKKcqZuaUwQOZyDawNIVqG7qqZtLcxr0K1jV88NE9Ype8vdmSTWzqUjX2Zu3ZS-5ry0UBeAYQAfMYMnIsEajllEWfySuwjmMaA0IcaXshVLqp7Y3PiLpNSGB4r21019aseevckROSCSegR68ge5qPY9iPw5ObSZU6g9DWb7r38hC53y3Aw7aBcx%7EtGwdzQ9O5fdrDYT8MHJy77HOGgM5TAqVmenSqFgfa2SyPWBd5Zpsdw9NRkKsYIOx8yM6yG91UvsQxqsfnm7w9VcCxITtaQbpqKiHjr-Ap6AFveLCeP9lmfyGIOCK3J8P91g__&Key-Pair-Id=KCD77M1F0VK2B\n",
            "Resolving cdn-lfs-us-1.huggingface.co (cdn-lfs-us-1.huggingface.co)... 108.156.107.49, 108.156.107.44, 108.156.107.80, ...\n",
            "Connecting to cdn-lfs-us-1.huggingface.co (cdn-lfs-us-1.huggingface.co)|108.156.107.49|:443... connected.\n",
            "HTTP request sent, awaiting response... 200 OK\n",
            "Length: 176625341 (168M) [binary/octet-stream]\n",
            "Saving to: ‘cloth_segm.pth’\n",
            "\n",
            "cloth_segm.pth      100%[===================>] 168.44M   219MB/s    in 0.8s    \n",
            "\n",
            "2024-03-30 14:57:42 (219 MB/s) - ‘cloth_segm.pth’ saved [176625341/176625341]\n",
            "\n",
            "/content/MagicClothing/checkpoints/ipadapter_faceid\n",
            "--2024-03-30 14:57:42--  https://huggingface.co/h94/IP-Adapter-FaceID/resolve/main/ip-adapter-faceid_sd15_lora.safetensors?download=true\n",
            "Resolving huggingface.co (huggingface.co)... 18.172.134.124, 18.172.134.24, 18.172.134.88, ...\n",
            "Connecting to huggingface.co (huggingface.co)|18.172.134.124|:443... connected.\n",
            "HTTP request sent, awaiting response... 302 Found\n",
            "Location: https://cdn-lfs-us-1.huggingface.co/repos/36/ca/36ca54ff1895000df817b45a5ae71fccd14170b0843d8adc2ba7944d9ac903e9/70699f0dbfadd47de1f81d263cf4c86bd4b7271d841304af9b340b3a7f38e86a?response-content-disposition=attachment%3B+filename*%3DUTF-8%27%27ip-adapter-faceid_sd15_lora.safetensors%3B+filename%3D%22ip-adapter-faceid_sd15_lora.safetensors%22%3B&Expires=1712069862&Policy=eyJTdGF0ZW1lbnQiOlt7IkNvbmRpdGlvbiI6eyJEYXRlTGVzc1RoYW4iOnsiQVdTOkVwb2NoVGltZSI6MTcxMjA2OTg2Mn19LCJSZXNvdXJjZSI6Imh0dHBzOi8vY2RuLWxmcy11cy0xLmh1Z2dpbmdmYWNlLmNvL3JlcG9zLzM2L2NhLzM2Y2E1NGZmMTg5NTAwMGRmODE3YjQ1YTVhZTcxZmNjZDE0MTcwYjA4NDNkOGFkYzJiYTc5NDRkOWFjOTAzZTkvNzA2OTlmMGRiZmFkZDQ3ZGUxZjgxZDI2M2NmNGM4NmJkNGI3MjcxZDg0MTMwNGFmOWIzNDBiM2E3ZjM4ZTg2YT9yZXNwb25zZS1jb250ZW50LWRpc3Bvc2l0aW9uPSoifV19&Signature=KT0MNcmyzdjGpeG2v4QHwx13U00zu3yms7BBzez7Yx2jZslhF%7Ety8Egx1jrZ0PBqiU9D-8QghUNbUzpn8CzMalJBtRzgZvmbk3TZUihdtSEc2%7EtOGM4lNmoKRc5d065T6W3L31hoR%7EWl0sMZ0ZF2dir09bNWGtd%7Et1VqLi3SibOno3dC4qobcuHMCtHs%7EXgb0eWqtmwQ7kNWswg9kTrMuZWLHT48IQfdhOT9Gr5l53zAqIbK5fU30Wz847eJK2MiQU%7EEcjHwTc9sTzI6EeB%7E85UgHlP7%7EE2Tb8vUqDAxFVjzz5z8h1tyjUZ2cwMmOy0oauNxVAEJxBHGGHMIYOyIXA__&Key-Pair-Id=KCD77M1F0VK2B [following]\n",
            "--2024-03-30 14:57:43--  https://cdn-lfs-us-1.huggingface.co/repos/36/ca/36ca54ff1895000df817b45a5ae71fccd14170b0843d8adc2ba7944d9ac903e9/70699f0dbfadd47de1f81d263cf4c86bd4b7271d841304af9b340b3a7f38e86a?response-content-disposition=attachment%3B+filename*%3DUTF-8%27%27ip-adapter-faceid_sd15_lora.safetensors%3B+filename%3D%22ip-adapter-faceid_sd15_lora.safetensors%22%3B&Expires=1712069862&Policy=eyJTdGF0ZW1lbnQiOlt7IkNvbmRpdGlvbiI6eyJEYXRlTGVzc1RoYW4iOnsiQVdTOkVwb2NoVGltZSI6MTcxMjA2OTg2Mn19LCJSZXNvdXJjZSI6Imh0dHBzOi8vY2RuLWxmcy11cy0xLmh1Z2dpbmdmYWNlLmNvL3JlcG9zLzM2L2NhLzM2Y2E1NGZmMTg5NTAwMGRmODE3YjQ1YTVhZTcxZmNjZDE0MTcwYjA4NDNkOGFkYzJiYTc5NDRkOWFjOTAzZTkvNzA2OTlmMGRiZmFkZDQ3ZGUxZjgxZDI2M2NmNGM4NmJkNGI3MjcxZDg0MTMwNGFmOWIzNDBiM2E3ZjM4ZTg2YT9yZXNwb25zZS1jb250ZW50LWRpc3Bvc2l0aW9uPSoifV19&Signature=KT0MNcmyzdjGpeG2v4QHwx13U00zu3yms7BBzez7Yx2jZslhF%7Ety8Egx1jrZ0PBqiU9D-8QghUNbUzpn8CzMalJBtRzgZvmbk3TZUihdtSEc2%7EtOGM4lNmoKRc5d065T6W3L31hoR%7EWl0sMZ0ZF2dir09bNWGtd%7Et1VqLi3SibOno3dC4qobcuHMCtHs%7EXgb0eWqtmwQ7kNWswg9kTrMuZWLHT48IQfdhOT9Gr5l53zAqIbK5fU30Wz847eJK2MiQU%7EEcjHwTc9sTzI6EeB%7E85UgHlP7%7EE2Tb8vUqDAxFVjzz5z8h1tyjUZ2cwMmOy0oauNxVAEJxBHGGHMIYOyIXA__&Key-Pair-Id=KCD77M1F0VK2B\n",
            "Resolving cdn-lfs-us-1.huggingface.co (cdn-lfs-us-1.huggingface.co)... 108.156.107.49, 108.156.107.44, 108.156.107.80, ...\n",
            "Connecting to cdn-lfs-us-1.huggingface.co (cdn-lfs-us-1.huggingface.co)|108.156.107.49|:443... connected.\n",
            "HTTP request sent, awaiting response... 200 OK\n",
            "Length: 51059544 (49M) [binary/octet-stream]\n",
            "Saving to: ‘ip-adapter-faceid_sd15_lora.safetensors’\n",
            "\n",
            "ip-adapter-faceid_s 100%[===================>]  48.69M   186MB/s    in 0.3s    \n",
            "\n",
            "2024-03-30 14:57:43 (186 MB/s) - ‘ip-adapter-faceid_sd15_lora.safetensors’ saved [51059544/51059544]\n",
            "\n",
            "--2024-03-30 14:57:43--  https://huggingface.co/h94/IP-Adapter-FaceID/resolve/main/ip-adapter-faceid_sd15.bin?download=true\n",
            "Resolving huggingface.co (huggingface.co)... 18.172.134.124, 18.172.134.24, 18.172.134.88, ...\n",
            "Connecting to huggingface.co (huggingface.co)|18.172.134.124|:443... connected.\n",
            "HTTP request sent, awaiting response... 302 Found\n",
            "Location: https://cdn-lfs-us-1.huggingface.co/repos/36/ca/36ca54ff1895000df817b45a5ae71fccd14170b0843d8adc2ba7944d9ac903e9/201344e22e6f55849cf07ca7a6e53d8c3b001327c66cb9710d69fd5da48a8da7?response-content-disposition=attachment%3B+filename*%3DUTF-8%27%27ip-adapter-faceid_sd15.bin%3B+filename%3D%22ip-adapter-faceid_sd15.bin%22%3B&response-content-type=application%2Foctet-stream&Expires=1712069863&Policy=eyJTdGF0ZW1lbnQiOlt7IkNvbmRpdGlvbiI6eyJEYXRlTGVzc1RoYW4iOnsiQVdTOkVwb2NoVGltZSI6MTcxMjA2OTg2M319LCJSZXNvdXJjZSI6Imh0dHBzOi8vY2RuLWxmcy11cy0xLmh1Z2dpbmdmYWNlLmNvL3JlcG9zLzM2L2NhLzM2Y2E1NGZmMTg5NTAwMGRmODE3YjQ1YTVhZTcxZmNjZDE0MTcwYjA4NDNkOGFkYzJiYTc5NDRkOWFjOTAzZTkvMjAxMzQ0ZTIyZTZmNTU4NDljZjA3Y2E3YTZlNTNkOGMzYjAwMTMyN2M2NmNiOTcxMGQ2OWZkNWRhNDhhOGRhNz9yZXNwb25zZS1jb250ZW50LWRpc3Bvc2l0aW9uPSomcmVzcG9uc2UtY29udGVudC10eXBlPSoifV19&Signature=gp3zkfVwzQmln86j3ihHXIkIzFvul7A44snKdW0N8KhRsPV1cT0sS42ipy0Cg1pK-xzm7kw176glxsIqAp4YZ2Au6GmAenCAooyfROCcNLVjTE9wPTdyjdcewbWLi%7EqMXeRAi6YlXibsnJZoHxIEF1PMIfEwUh%7E5AcY9A8y3nz4rdyNf5bwb4GQiWfkcZwJZn%7EItfj9dXmoJ4By1XMH%7E457AMO2kD2vJlf0LpMuEsRGpURGIGug072AJyOfgedzAqNo%7E1IjfVOhQn1hfoNHWNC-ncRpL0BJ5f20vRmCwUxNwKH4rYVtr3N-GZOs39M9%7EnokFKjueik1rjLWRX7vR9Q__&Key-Pair-Id=KCD77M1F0VK2B [following]\n",
            "--2024-03-30 14:57:43--  https://cdn-lfs-us-1.huggingface.co/repos/36/ca/36ca54ff1895000df817b45a5ae71fccd14170b0843d8adc2ba7944d9ac903e9/201344e22e6f55849cf07ca7a6e53d8c3b001327c66cb9710d69fd5da48a8da7?response-content-disposition=attachment%3B+filename*%3DUTF-8%27%27ip-adapter-faceid_sd15.bin%3B+filename%3D%22ip-adapter-faceid_sd15.bin%22%3B&response-content-type=application%2Foctet-stream&Expires=1712069863&Policy=eyJTdGF0ZW1lbnQiOlt7IkNvbmRpdGlvbiI6eyJEYXRlTGVzc1RoYW4iOnsiQVdTOkVwb2NoVGltZSI6MTcxMjA2OTg2M319LCJSZXNvdXJjZSI6Imh0dHBzOi8vY2RuLWxmcy11cy0xLmh1Z2dpbmdmYWNlLmNvL3JlcG9zLzM2L2NhLzM2Y2E1NGZmMTg5NTAwMGRmODE3YjQ1YTVhZTcxZmNjZDE0MTcwYjA4NDNkOGFkYzJiYTc5NDRkOWFjOTAzZTkvMjAxMzQ0ZTIyZTZmNTU4NDljZjA3Y2E3YTZlNTNkOGMzYjAwMTMyN2M2NmNiOTcxMGQ2OWZkNWRhNDhhOGRhNz9yZXNwb25zZS1jb250ZW50LWRpc3Bvc2l0aW9uPSomcmVzcG9uc2UtY29udGVudC10eXBlPSoifV19&Signature=gp3zkfVwzQmln86j3ihHXIkIzFvul7A44snKdW0N8KhRsPV1cT0sS42ipy0Cg1pK-xzm7kw176glxsIqAp4YZ2Au6GmAenCAooyfROCcNLVjTE9wPTdyjdcewbWLi%7EqMXeRAi6YlXibsnJZoHxIEF1PMIfEwUh%7E5AcY9A8y3nz4rdyNf5bwb4GQiWfkcZwJZn%7EItfj9dXmoJ4By1XMH%7E457AMO2kD2vJlf0LpMuEsRGpURGIGug072AJyOfgedzAqNo%7E1IjfVOhQn1hfoNHWNC-ncRpL0BJ5f20vRmCwUxNwKH4rYVtr3N-GZOs39M9%7EnokFKjueik1rjLWRX7vR9Q__&Key-Pair-Id=KCD77M1F0VK2B\n",
            "Resolving cdn-lfs-us-1.huggingface.co (cdn-lfs-us-1.huggingface.co)... 108.156.107.49, 108.156.107.44, 108.156.107.80, ...\n",
            "Connecting to cdn-lfs-us-1.huggingface.co (cdn-lfs-us-1.huggingface.co)|108.156.107.49|:443... connected.\n",
            "HTTP request sent, awaiting response... 200 OK\n",
            "Length: 96740574 (92M) [application/octet-stream]\n",
            "Saving to: ‘ip-adapter-faceid_sd15.bin’\n",
            "\n",
            "ip-adapter-faceid_s 100%[===================>]  92.26M   227MB/s    in 0.4s    \n",
            "\n",
            "2024-03-30 14:57:44 (227 MB/s) - ‘ip-adapter-faceid_sd15.bin’ saved [96740574/96740574]\n",
            "\n",
            "--2024-03-30 14:57:44--  https://huggingface.co/h94/IP-Adapter-FaceID/resolve/main/ip-adapter-faceid-plusv2_sd15_lora.safetensors?download=true\n",
            "Resolving huggingface.co (huggingface.co)... 18.172.134.124, 18.172.134.24, 18.172.134.88, ...\n",
            "Connecting to huggingface.co (huggingface.co)|18.172.134.124|:443... connected.\n",
            "HTTP request sent, awaiting response... 302 Found\n",
            "Location: https://cdn-lfs-us-1.huggingface.co/repos/36/ca/36ca54ff1895000df817b45a5ae71fccd14170b0843d8adc2ba7944d9ac903e9/8abff87a15a049f3e0186c2e82c1c8e77783baf2cfb63f34c412656052eb57b0?response-content-disposition=attachment%3B+filename*%3DUTF-8%27%27ip-adapter-faceid-plusv2_sd15_lora.safetensors%3B+filename%3D%22ip-adapter-faceid-plusv2_sd15_lora.safetensors%22%3B&Expires=1712069864&Policy=eyJTdGF0ZW1lbnQiOlt7IkNvbmRpdGlvbiI6eyJEYXRlTGVzc1RoYW4iOnsiQVdTOkVwb2NoVGltZSI6MTcxMjA2OTg2NH19LCJSZXNvdXJjZSI6Imh0dHBzOi8vY2RuLWxmcy11cy0xLmh1Z2dpbmdmYWNlLmNvL3JlcG9zLzM2L2NhLzM2Y2E1NGZmMTg5NTAwMGRmODE3YjQ1YTVhZTcxZmNjZDE0MTcwYjA4NDNkOGFkYzJiYTc5NDRkOWFjOTAzZTkvOGFiZmY4N2ExNWEwNDlmM2UwMTg2YzJlODJjMWM4ZTc3NzgzYmFmMmNmYjYzZjM0YzQxMjY1NjA1MmViNTdiMD9yZXNwb25zZS1jb250ZW50LWRpc3Bvc2l0aW9uPSoifV19&Signature=izWFV95hnYCjOM3MjL7CeFwyCONh0oMc5mnw1aZk5%7EisAZfaNTkeLfn5IsmWbYZkkHjKpavgbXaHwRNo7JuuvVYiEg5JTEG9ONgunvlnmbh8YBZkjcl9g0KJpNB-MLzzsCQm8qfm-SeGtbWOXK4CsZXTOw5mBvaXFD7jPn8%7EKnpj7YSRb3-pwko1Q702iIkLxlLEvLBowDc0Lb8WqvLE8bMUtspG4kwAeIUKpXCar7Lh0pqZ7VOMqXHMmfdhAEs9unSk6QaVp4rOVuOtcZYdlCHmg2GnOFX80Hiy-r5fMH47n%7EkY3-mfZ22G-fuMb%7E1DRbHdADnuixcIt9nlqXQcIg__&Key-Pair-Id=KCD77M1F0VK2B [following]\n",
            "--2024-03-30 14:57:44--  https://cdn-lfs-us-1.huggingface.co/repos/36/ca/36ca54ff1895000df817b45a5ae71fccd14170b0843d8adc2ba7944d9ac903e9/8abff87a15a049f3e0186c2e82c1c8e77783baf2cfb63f34c412656052eb57b0?response-content-disposition=attachment%3B+filename*%3DUTF-8%27%27ip-adapter-faceid-plusv2_sd15_lora.safetensors%3B+filename%3D%22ip-adapter-faceid-plusv2_sd15_lora.safetensors%22%3B&Expires=1712069864&Policy=eyJTdGF0ZW1lbnQiOlt7IkNvbmRpdGlvbiI6eyJEYXRlTGVzc1RoYW4iOnsiQVdTOkVwb2NoVGltZSI6MTcxMjA2OTg2NH19LCJSZXNvdXJjZSI6Imh0dHBzOi8vY2RuLWxmcy11cy0xLmh1Z2dpbmdmYWNlLmNvL3JlcG9zLzM2L2NhLzM2Y2E1NGZmMTg5NTAwMGRmODE3YjQ1YTVhZTcxZmNjZDE0MTcwYjA4NDNkOGFkYzJiYTc5NDRkOWFjOTAzZTkvOGFiZmY4N2ExNWEwNDlmM2UwMTg2YzJlODJjMWM4ZTc3NzgzYmFmMmNmYjYzZjM0YzQxMjY1NjA1MmViNTdiMD9yZXNwb25zZS1jb250ZW50LWRpc3Bvc2l0aW9uPSoifV19&Signature=izWFV95hnYCjOM3MjL7CeFwyCONh0oMc5mnw1aZk5%7EisAZfaNTkeLfn5IsmWbYZkkHjKpavgbXaHwRNo7JuuvVYiEg5JTEG9ONgunvlnmbh8YBZkjcl9g0KJpNB-MLzzsCQm8qfm-SeGtbWOXK4CsZXTOw5mBvaXFD7jPn8%7EKnpj7YSRb3-pwko1Q702iIkLxlLEvLBowDc0Lb8WqvLE8bMUtspG4kwAeIUKpXCar7Lh0pqZ7VOMqXHMmfdhAEs9unSk6QaVp4rOVuOtcZYdlCHmg2GnOFX80Hiy-r5fMH47n%7EkY3-mfZ22G-fuMb%7E1DRbHdADnuixcIt9nlqXQcIg__&Key-Pair-Id=KCD77M1F0VK2B\n",
            "Resolving cdn-lfs-us-1.huggingface.co (cdn-lfs-us-1.huggingface.co)... 108.156.107.49, 108.156.107.44, 108.156.107.80, ...\n",
            "Connecting to cdn-lfs-us-1.huggingface.co (cdn-lfs-us-1.huggingface.co)|108.156.107.49|:443... connected.\n",
            "HTTP request sent, awaiting response... 200 OK\n",
            "Length: 51059544 (49M) [binary/octet-stream]\n",
            "Saving to: ‘ip-adapter-faceid-plusv2_sd15_lora.safetensors’\n",
            "\n",
            "ip-adapter-faceid-p 100%[===================>]  48.69M   153MB/s    in 0.3s    \n",
            "\n",
            "2024-03-30 14:57:44 (153 MB/s) - ‘ip-adapter-faceid-plusv2_sd15_lora.safetensors’ saved [51059544/51059544]\n",
            "\n",
            "--2024-03-30 14:57:44--  https://huggingface.co/h94/IP-Adapter-FaceID/resolve/main/ip-adapter-faceid-plusv2_sd15.bin?download=true\n",
            "Resolving huggingface.co (huggingface.co)... 18.172.134.124, 18.172.134.24, 18.172.134.88, ...\n",
            "Connecting to huggingface.co (huggingface.co)|18.172.134.124|:443... connected.\n",
            "HTTP request sent, awaiting response... 302 Found\n",
            "Location: https://cdn-lfs-us-1.huggingface.co/repos/36/ca/36ca54ff1895000df817b45a5ae71fccd14170b0843d8adc2ba7944d9ac903e9/26d0d86a1d60d6cc811d3b8862178b461e1eeb651e6fe2b72ba17aa95411e313?response-content-disposition=attachment%3B+filename*%3DUTF-8%27%27ip-adapter-faceid-plusv2_sd15.bin%3B+filename%3D%22ip-adapter-faceid-plusv2_sd15.bin%22%3B&response-content-type=application%2Foctet-stream&Expires=1712069707&Policy=eyJTdGF0ZW1lbnQiOlt7IkNvbmRpdGlvbiI6eyJEYXRlTGVzc1RoYW4iOnsiQVdTOkVwb2NoVGltZSI6MTcxMjA2OTcwN319LCJSZXNvdXJjZSI6Imh0dHBzOi8vY2RuLWxmcy11cy0xLmh1Z2dpbmdmYWNlLmNvL3JlcG9zLzM2L2NhLzM2Y2E1NGZmMTg5NTAwMGRmODE3YjQ1YTVhZTcxZmNjZDE0MTcwYjA4NDNkOGFkYzJiYTc5NDRkOWFjOTAzZTkvMjZkMGQ4NmExZDYwZDZjYzgxMWQzYjg4NjIxNzhiNDYxZTFlZWI2NTFlNmZlMmI3MmJhMTdhYTk1NDExZTMxMz9yZXNwb25zZS1jb250ZW50LWRpc3Bvc2l0aW9uPSomcmVzcG9uc2UtY29udGVudC10eXBlPSoifV19&Signature=FjLGmyu4mG41hI93FAT0ldPyRTklggohaO%7E3EwJb0OVJ0vKDDndNos8OwkJYuj5t77dFTTe9acDzUxmkyWuXJnB3Qh1OMhEgaR6YpAeqCvIlP1MDw8PQmyO%7EGWOT524rjFWsaWLRo-b5ITrk2l-z59O4jGd9dFvHgIdHlRwEJQe%7E5p8it9w-rOBxdKgwggQrIBRWYOBAxz4UmJ3y8FjAxwQ9mvl0Jp98aVVHoZlIS1nfYVBZxmfuJGPDaEFVOQ6eLNCZZTSHFyZED9NbSMuIbGTliwGj%7ES8XPhuXTAz3HF8DcUHjWpSMI2F-wWRr8GnoAQZHd%7EfLP4I2igwNvY07TQ__&Key-Pair-Id=KCD77M1F0VK2B [following]\n",
            "--2024-03-30 14:57:44--  https://cdn-lfs-us-1.huggingface.co/repos/36/ca/36ca54ff1895000df817b45a5ae71fccd14170b0843d8adc2ba7944d9ac903e9/26d0d86a1d60d6cc811d3b8862178b461e1eeb651e6fe2b72ba17aa95411e313?response-content-disposition=attachment%3B+filename*%3DUTF-8%27%27ip-adapter-faceid-plusv2_sd15.bin%3B+filename%3D%22ip-adapter-faceid-plusv2_sd15.bin%22%3B&response-content-type=application%2Foctet-stream&Expires=1712069707&Policy=eyJTdGF0ZW1lbnQiOlt7IkNvbmRpdGlvbiI6eyJEYXRlTGVzc1RoYW4iOnsiQVdTOkVwb2NoVGltZSI6MTcxMjA2OTcwN319LCJSZXNvdXJjZSI6Imh0dHBzOi8vY2RuLWxmcy11cy0xLmh1Z2dpbmdmYWNlLmNvL3JlcG9zLzM2L2NhLzM2Y2E1NGZmMTg5NTAwMGRmODE3YjQ1YTVhZTcxZmNjZDE0MTcwYjA4NDNkOGFkYzJiYTc5NDRkOWFjOTAzZTkvMjZkMGQ4NmExZDYwZDZjYzgxMWQzYjg4NjIxNzhiNDYxZTFlZWI2NTFlNmZlMmI3MmJhMTdhYTk1NDExZTMxMz9yZXNwb25zZS1jb250ZW50LWRpc3Bvc2l0aW9uPSomcmVzcG9uc2UtY29udGVudC10eXBlPSoifV19&Signature=FjLGmyu4mG41hI93FAT0ldPyRTklggohaO%7E3EwJb0OVJ0vKDDndNos8OwkJYuj5t77dFTTe9acDzUxmkyWuXJnB3Qh1OMhEgaR6YpAeqCvIlP1MDw8PQmyO%7EGWOT524rjFWsaWLRo-b5ITrk2l-z59O4jGd9dFvHgIdHlRwEJQe%7E5p8it9w-rOBxdKgwggQrIBRWYOBAxz4UmJ3y8FjAxwQ9mvl0Jp98aVVHoZlIS1nfYVBZxmfuJGPDaEFVOQ6eLNCZZTSHFyZED9NbSMuIbGTliwGj%7ES8XPhuXTAz3HF8DcUHjWpSMI2F-wWRr8GnoAQZHd%7EfLP4I2igwNvY07TQ__&Key-Pair-Id=KCD77M1F0VK2B\n",
            "Resolving cdn-lfs-us-1.huggingface.co (cdn-lfs-us-1.huggingface.co)... 108.156.107.49, 108.156.107.44, 108.156.107.80, ...\n",
            "Connecting to cdn-lfs-us-1.huggingface.co (cdn-lfs-us-1.huggingface.co)|108.156.107.49|:443... connected.\n",
            "HTTP request sent, awaiting response... 200 OK\n",
            "Length: 156558509 (149M) [application/octet-stream]\n",
            "Saving to: ‘ip-adapter-faceid-plusv2_sd15.bin’\n",
            "\n",
            "ip-adapter-faceid-p 100%[===================>] 149.31M   236MB/s    in 0.6s    \n",
            "\n",
            "2024-03-30 14:57:45 (236 MB/s) - ‘ip-adapter-faceid-plusv2_sd15.bin’ saved [156558509/156558509]\n",
            "\n"
          ]
        }
      ]
    },
    {
      "cell_type": "markdown",
      "source": [
        "## 通用"
      ],
      "metadata": {
        "id": "I_xdFl2a718i"
      }
    },
    {
      "cell_type": "code",
      "source": [
        "%cd /content/MagicClothing\n",
        "!python gradio_generate.py --model_path ./checkpoints/oms_diffusion_768_120000.safetensors --enable_cloth_guidance"
      ],
      "metadata": {
        "colab": {
          "base_uri": "https://localhost:8080/"
        },
        "id": "4nH4tX-d74xH",
        "outputId": "7a6c2955-a095-45b3-94cc-9da678a9c1bd"
      },
      "execution_count": 6,
      "outputs": [
        {
          "output_type": "stream",
          "name": "stdout",
          "text": [
            "/content/MagicClothing\n",
            "2024-03-30 15:45:35.750472: E external/local_xla/xla/stream_executor/cuda/cuda_dnn.cc:9261] Unable to register cuDNN factory: Attempting to register factory for plugin cuDNN when one has already been registered\n",
            "2024-03-30 15:45:35.750532: E external/local_xla/xla/stream_executor/cuda/cuda_fft.cc:607] Unable to register cuFFT factory: Attempting to register factory for plugin cuFFT when one has already been registered\n",
            "2024-03-30 15:45:35.751949: E external/local_xla/xla/stream_executor/cuda/cuda_blas.cc:1515] Unable to register cuBLAS factory: Attempting to register factory for plugin cuBLAS when one has already been registered\n",
            "2024-03-30 15:45:37.041668: W tensorflow/compiler/tf2tensorrt/utils/py_utils.cc:38] TF-TRT Warning: Could not find TensorRT\n",
            "Loading pipeline components...: 100% 5/5 [00:15<00:00,  3.17s/it]\n",
            "----checkpoints loaded from path: checkpoints/cloth_segm.pth----\n",
            "Running on local URL:  http://0.0.0.0:7860\n",
            "Running on public URL: https://b53e657f4174bdb27c.gradio.live\n",
            "\n",
            "This share link expires in 72 hours. For free permanent hosting and GPU upgrades, run `gradio deploy` from Terminal to deploy to Spaces (https://huggingface.co/spaces)\n",
            "Traceback (most recent call last):\n",
            "  File \"/usr/local/lib/python3.10/dist-packages/gradio/queueing.py\", line 495, in call_prediction\n",
            "    output = await route_utils.call_process_api(\n",
            "  File \"/usr/local/lib/python3.10/dist-packages/gradio/route_utils.py\", line 232, in call_process_api\n",
            "    output = await app.get_blocks().process_api(\n",
            "  File \"/usr/local/lib/python3.10/dist-packages/gradio/blocks.py\", line 1561, in process_api\n",
            "    result = await self.call_function(\n",
            "  File \"/usr/local/lib/python3.10/dist-packages/gradio/blocks.py\", line 1179, in call_function\n",
            "    prediction = await anyio.to_thread.run_sync(\n",
            "  File \"/usr/local/lib/python3.10/dist-packages/anyio/to_thread.py\", line 33, in run_sync\n",
            "    return await get_asynclib().run_sync_in_worker_thread(\n",
            "  File \"/usr/local/lib/python3.10/dist-packages/anyio/_backends/_asyncio.py\", line 877, in run_sync_in_worker_thread\n",
            "    return await future\n",
            "  File \"/usr/local/lib/python3.10/dist-packages/anyio/_backends/_asyncio.py\", line 807, in run\n",
            "    result = context.run(func, *args)\n",
            "  File \"/usr/local/lib/python3.10/dist-packages/gradio/utils.py\", line 695, in wrapper\n",
            "    response = f(*args, **kwargs)\n",
            "  File \"/content/MagicClothing/gradio_generate.py\", line 29, in process\n",
            "    images, cloth_mask_image = full_net.generate(cloth_image, cloth_mask_image, prompt, a_prompt, num_samples, n_prompt, seed, scale, cloth_guidance_scale, sample_steps, height, width)\n",
            "  File \"/content/MagicClothing/garment_adapter/garment_diffusion.py\", line 69, in generate\n",
            "    cloth_mask_image = generate_mask(cloth_image, net=self.seg_net, device=self.device)\n",
            "  File \"/content/MagicClothing/garment_seg/process.py\", line 74, in generate_mask\n",
            "    img_size = img.size\n",
            "AttributeError: 'NoneType' object has no attribute 'size'\n",
            "/usr/local/lib/python3.10/dist-packages/torch/nn/functional.py:3737: UserWarning: nn.functional.upsample is deprecated. Use nn.functional.interpolate instead.\n",
            "  warnings.warn(\"nn.functional.upsample is deprecated. Use nn.functional.interpolate instead.\")\n",
            "100% 20/20 [00:18<00:00,  1.08it/s]\n",
            "Keyboard interruption in main thread... closing server.\n",
            "Traceback (most recent call last):\n",
            "  File \"/usr/local/lib/python3.10/dist-packages/gradio/blocks.py\", line 2233, in block_thread\n",
            "    time.sleep(0.1)\n",
            "KeyboardInterrupt\n",
            "\n",
            "During handling of the above exception, another exception occurred:\n",
            "\n",
            "Traceback (most recent call last):\n",
            "  File \"/content/MagicClothing/gradio_generate.py\", line 61, in <module>\n",
            "    block.launch(server_name=\"0.0.0.0\", share=True, server_port=7860)\n",
            "  File \"/usr/local/lib/python3.10/dist-packages/gradio/blocks.py\", line 2140, in launch\n",
            "    self.block_thread()\n",
            "  File \"/usr/local/lib/python3.10/dist-packages/gradio/blocks.py\", line 2237, in block_thread\n",
            "    self.server.close()\n",
            "  File \"/usr/local/lib/python3.10/dist-packages/gradio/networking.py\", line 76, in close\n",
            "    self.thread.join()\n",
            "  File \"/usr/lib/python3.10/threading.py\", line 1096, in join\n",
            "    self._wait_for_tstate_lock()\n",
            "  File \"/usr/lib/python3.10/threading.py\", line 1116, in _wait_for_tstate_lock\n",
            "    if lock.acquire(block, timeout):\n",
            "KeyboardInterrupt\n",
            "Killing tunnel 0.0.0.0:7860 <> https://b53e657f4174bdb27c.gradio.live\n",
            "^C\n"
          ]
        }
      ]
    },
    {
      "cell_type": "markdown",
      "source": [
        "## ipadapter_openpose"
      ],
      "metadata": {
        "id": "NKg2CvWpRZxj"
      }
    },
    {
      "cell_type": "code",
      "source": [
        "%cd /content/MagicClothing\n",
        "!python gradio_ipadapter_faceid.py --model_path ./checkpoints/oms_diffusion_768_120000.safetensors --enable_cloth_guidance"
      ],
      "metadata": {
        "colab": {
          "base_uri": "https://localhost:8080/"
        },
        "id": "ePV99Em0Q6la",
        "outputId": "88b48421-f4b4-423a-d51e-3ad60fb3388b"
      },
      "execution_count": 7,
      "outputs": [
        {
          "output_type": "stream",
          "name": "stdout",
          "text": [
            "/content/MagicClothing\n",
            "2024-03-30 15:48:58.855611: E external/local_xla/xla/stream_executor/cuda/cuda_dnn.cc:9261] Unable to register cuDNN factory: Attempting to register factory for plugin cuDNN when one has already been registered\n",
            "2024-03-30 15:48:58.855667: E external/local_xla/xla/stream_executor/cuda/cuda_fft.cc:607] Unable to register cuFFT factory: Attempting to register factory for plugin cuFFT when one has already been registered\n",
            "2024-03-30 15:48:58.857059: E external/local_xla/xla/stream_executor/cuda/cuda_blas.cc:1515] Unable to register cuBLAS factory: Attempting to register factory for plugin cuBLAS when one has already been registered\n",
            "2024-03-30 15:49:00.116907: W tensorflow/compiler/tf2tensorrt/utils/py_utils.cc:38] TF-TRT Warning: Could not find TensorRT\n",
            "Loading pipeline components...: 100% 5/5 [00:15<00:00,  3.16s/it]\n",
            "/usr/local/lib/python3.10/dist-packages/diffusers/loaders/lora.py:1077: FutureWarning: `fuse_text_encoder_lora` is deprecated and will be removed in version 0.27. You are using an old version of LoRA backend. This will be deprecated in the next releases in favor of PEFT make sure to install the latest PEFT and transformers packages in the future.\n",
            "  deprecate(\"fuse_text_encoder_lora\", \"0.27\", LORA_DEPRECATION_MESSAGE)\n",
            "/usr/local/lib/python3.10/dist-packages/onnxruntime/capi/onnxruntime_inference_collection.py:69: UserWarning: Specified provider 'CUDAExecutionProvider' is not in available provider names.Available providers: 'AzureExecutionProvider, CPUExecutionProvider'\n",
            "  warnings.warn(\n",
            "Applied providers: ['CPUExecutionProvider'], with options: {'CPUExecutionProvider': {}}\n",
            "find model: /root/.insightface/models/buffalo_l/1k3d68.onnx landmark_3d_68 ['None', 3, 192, 192] 0.0 1.0\n",
            "Applied providers: ['CPUExecutionProvider'], with options: {'CPUExecutionProvider': {}}\n",
            "find model: /root/.insightface/models/buffalo_l/2d106det.onnx landmark_2d_106 ['None', 3, 192, 192] 0.0 1.0\n",
            "Applied providers: ['CPUExecutionProvider'], with options: {'CPUExecutionProvider': {}}\n",
            "find model: /root/.insightface/models/buffalo_l/det_10g.onnx detection [1, 3, '?', '?'] 127.5 128.0\n",
            "Applied providers: ['CPUExecutionProvider'], with options: {'CPUExecutionProvider': {}}\n",
            "find model: /root/.insightface/models/buffalo_l/genderage.onnx genderage ['None', 3, 96, 96] 0.0 1.0\n",
            "Applied providers: ['CPUExecutionProvider'], with options: {'CPUExecutionProvider': {}}\n",
            "find model: /root/.insightface/models/buffalo_l/w600k_r50.onnx recognition ['None', 3, 112, 112] 127.5 127.5\n",
            "set det-size: (640, 640)\n",
            "----checkpoints loaded from path: checkpoints/cloth_segm.pth----\n",
            "Running on local URL:  http://0.0.0.0:7860\n",
            "Running on public URL: https://698c3df52745076ad5.gradio.live\n",
            "\n",
            "This share link expires in 72 hours. For free permanent hosting and GPU upgrades, run `gradio deploy` from Terminal to deploy to Spaces (https://huggingface.co/spaces)\n",
            "/usr/local/lib/python3.10/dist-packages/insightface/utils/transform.py:68: FutureWarning: `rcond` parameter will change to the default of machine precision times ``max(M, N)`` where M and N are the input matrix dimensions.\n",
            "To use the future default and silence this warning we advise to pass `rcond=None`, to keep using the old, explicitly pass `rcond=-1`.\n",
            "  P = np.linalg.lstsq(X_homo, Y)[0].T # Affine matrix. 3 x 4\n",
            "/usr/local/lib/python3.10/dist-packages/torch/nn/functional.py:3737: UserWarning: nn.functional.upsample is deprecated. Use nn.functional.interpolate instead.\n",
            "  warnings.warn(\"nn.functional.upsample is deprecated. Use nn.functional.interpolate instead.\")\n",
            "100% 20/20 [00:18<00:00,  1.06it/s]\n",
            "/usr/local/lib/python3.10/dist-packages/insightface/utils/transform.py:68: FutureWarning: `rcond` parameter will change to the default of machine precision times ``max(M, N)`` where M and N are the input matrix dimensions.\n",
            "To use the future default and silence this warning we advise to pass `rcond=None`, to keep using the old, explicitly pass `rcond=-1`.\n",
            "  P = np.linalg.lstsq(X_homo, Y)[0].T # Affine matrix. 3 x 4\n",
            "/usr/local/lib/python3.10/dist-packages/torch/nn/functional.py:3737: UserWarning: nn.functional.upsample is deprecated. Use nn.functional.interpolate instead.\n",
            "  warnings.warn(\"nn.functional.upsample is deprecated. Use nn.functional.interpolate instead.\")\n",
            "100% 20/20 [00:17<00:00,  1.17it/s]\n",
            "/usr/local/lib/python3.10/dist-packages/insightface/utils/transform.py:68: FutureWarning: `rcond` parameter will change to the default of machine precision times ``max(M, N)`` where M and N are the input matrix dimensions.\n",
            "To use the future default and silence this warning we advise to pass `rcond=None`, to keep using the old, explicitly pass `rcond=-1`.\n",
            "  P = np.linalg.lstsq(X_homo, Y)[0].T # Affine matrix. 3 x 4\n",
            "/usr/local/lib/python3.10/dist-packages/torch/nn/functional.py:3737: UserWarning: nn.functional.upsample is deprecated. Use nn.functional.interpolate instead.\n",
            "  warnings.warn(\"nn.functional.upsample is deprecated. Use nn.functional.interpolate instead.\")\n",
            "100% 20/20 [00:17<00:00,  1.14it/s]\n",
            "/usr/local/lib/python3.10/dist-packages/insightface/utils/transform.py:68: FutureWarning: `rcond` parameter will change to the default of machine precision times ``max(M, N)`` where M and N are the input matrix dimensions.\n",
            "To use the future default and silence this warning we advise to pass `rcond=None`, to keep using the old, explicitly pass `rcond=-1`.\n",
            "  P = np.linalg.lstsq(X_homo, Y)[0].T # Affine matrix. 3 x 4\n",
            "/usr/local/lib/python3.10/dist-packages/torch/nn/functional.py:3737: UserWarning: nn.functional.upsample is deprecated. Use nn.functional.interpolate instead.\n",
            "  warnings.warn(\"nn.functional.upsample is deprecated. Use nn.functional.interpolate instead.\")\n",
            "100% 20/20 [00:17<00:00,  1.11it/s]\n",
            "/usr/local/lib/python3.10/dist-packages/insightface/utils/transform.py:68: FutureWarning: `rcond` parameter will change to the default of machine precision times ``max(M, N)`` where M and N are the input matrix dimensions.\n",
            "To use the future default and silence this warning we advise to pass `rcond=None`, to keep using the old, explicitly pass `rcond=-1`.\n",
            "  P = np.linalg.lstsq(X_homo, Y)[0].T # Affine matrix. 3 x 4\n",
            "/usr/local/lib/python3.10/dist-packages/torch/nn/functional.py:3737: UserWarning: nn.functional.upsample is deprecated. Use nn.functional.interpolate instead.\n",
            "  warnings.warn(\"nn.functional.upsample is deprecated. Use nn.functional.interpolate instead.\")\n",
            "100% 20/20 [00:18<00:00,  1.08it/s]\n",
            "/usr/local/lib/python3.10/dist-packages/insightface/utils/transform.py:68: FutureWarning: `rcond` parameter will change to the default of machine precision times ``max(M, N)`` where M and N are the input matrix dimensions.\n",
            "To use the future default and silence this warning we advise to pass `rcond=None`, to keep using the old, explicitly pass `rcond=-1`.\n",
            "  P = np.linalg.lstsq(X_homo, Y)[0].T # Affine matrix. 3 x 4\n",
            "/usr/local/lib/python3.10/dist-packages/torch/nn/functional.py:3737: UserWarning: nn.functional.upsample is deprecated. Use nn.functional.interpolate instead.\n",
            "  warnings.warn(\"nn.functional.upsample is deprecated. Use nn.functional.interpolate instead.\")\n",
            "100% 20/20 [00:18<00:00,  1.10it/s]\n",
            "/usr/local/lib/python3.10/dist-packages/insightface/utils/transform.py:68: FutureWarning: `rcond` parameter will change to the default of machine precision times ``max(M, N)`` where M and N are the input matrix dimensions.\n",
            "To use the future default and silence this warning we advise to pass `rcond=None`, to keep using the old, explicitly pass `rcond=-1`.\n",
            "  P = np.linalg.lstsq(X_homo, Y)[0].T # Affine matrix. 3 x 4\n",
            "/usr/local/lib/python3.10/dist-packages/torch/nn/functional.py:3737: UserWarning: nn.functional.upsample is deprecated. Use nn.functional.interpolate instead.\n",
            "  warnings.warn(\"nn.functional.upsample is deprecated. Use nn.functional.interpolate instead.\")\n",
            "100% 20/20 [00:18<00:00,  1.06it/s]\n",
            "Traceback (most recent call last):\n",
            "  File \"/usr/local/lib/python3.10/dist-packages/gradio/blocks.py\", line 2233, in block_thread\n",
            "    time.sleep(0.1)\n",
            "KeyboardInterrupt\n",
            "\n",
            "During handling of the above exception, another exception occurred:\n",
            "\n",
            "Traceback (most recent call last):\n",
            "  File \"/content/MagicClothing/gradio_ipadapter_faceid.py\", line 97, in <module>\n",
            "    block.launch(server_name=\"0.0.0.0\",share=True,  server_port=7860)\n",
            "  File \"/usr/local/lib/python3.10/dist-packages/gradio/blocks.py\", line 2140, in launch\n",
            "    self.block_thread()\n",
            "  File \"/usr/local/lib/python3.10/dist-packages/gradio/blocks.py\", line 2235, in block_thread\n",
            "    print(\"Keyboard interruption in main thread... closing server.\")\n",
            "KeyboardInterrupt\n",
            "Killing tunnel 0.0.0.0:7860 <> https://698c3df52745076ad5.gradio.live\n",
            "^C\n"
          ]
        }
      ]
    },
    {
      "cell_type": "markdown",
      "source": [
        "## ipadapter_faceid"
      ],
      "metadata": {
        "id": "XFM4djqRRvWt"
      }
    },
    {
      "cell_type": "code",
      "source": [
        "%cd /content/MagicClothing\n",
        "!python gradio_ipadapter_faceid.py --model_path ./checkpoints/oms_diffusion_768_120000.safetensors"
      ],
      "metadata": {
        "colab": {
          "base_uri": "https://localhost:8080/"
        },
        "id": "l1bEzGMIRvfp",
        "outputId": "7f2aff51-880d-4379-c1b5-a469f740b6d9"
      },
      "execution_count": 8,
      "outputs": [
        {
          "output_type": "stream",
          "name": "stdout",
          "text": [
            "/content/MagicClothing\n",
            "2024-03-30 15:56:08.097320: E external/local_xla/xla/stream_executor/cuda/cuda_dnn.cc:9261] Unable to register cuDNN factory: Attempting to register factory for plugin cuDNN when one has already been registered\n",
            "2024-03-30 15:56:08.097375: E external/local_xla/xla/stream_executor/cuda/cuda_fft.cc:607] Unable to register cuFFT factory: Attempting to register factory for plugin cuFFT when one has already been registered\n",
            "2024-03-30 15:56:08.098789: E external/local_xla/xla/stream_executor/cuda/cuda_blas.cc:1515] Unable to register cuBLAS factory: Attempting to register factory for plugin cuBLAS when one has already been registered\n",
            "2024-03-30 15:56:09.354322: W tensorflow/compiler/tf2tensorrt/utils/py_utils.cc:38] TF-TRT Warning: Could not find TensorRT\n",
            "Loading pipeline components...: 100% 5/5 [00:15<00:00,  3.11s/it]\n",
            "/usr/local/lib/python3.10/dist-packages/diffusers/loaders/lora.py:1077: FutureWarning: `fuse_text_encoder_lora` is deprecated and will be removed in version 0.27. You are using an old version of LoRA backend. This will be deprecated in the next releases in favor of PEFT make sure to install the latest PEFT and transformers packages in the future.\n",
            "  deprecate(\"fuse_text_encoder_lora\", \"0.27\", LORA_DEPRECATION_MESSAGE)\n",
            "/usr/local/lib/python3.10/dist-packages/onnxruntime/capi/onnxruntime_inference_collection.py:69: UserWarning: Specified provider 'CUDAExecutionProvider' is not in available provider names.Available providers: 'AzureExecutionProvider, CPUExecutionProvider'\n",
            "  warnings.warn(\n",
            "Applied providers: ['CPUExecutionProvider'], with options: {'CPUExecutionProvider': {}}\n",
            "find model: /root/.insightface/models/buffalo_l/1k3d68.onnx landmark_3d_68 ['None', 3, 192, 192] 0.0 1.0\n",
            "Applied providers: ['CPUExecutionProvider'], with options: {'CPUExecutionProvider': {}}\n",
            "find model: /root/.insightface/models/buffalo_l/2d106det.onnx landmark_2d_106 ['None', 3, 192, 192] 0.0 1.0\n",
            "Applied providers: ['CPUExecutionProvider'], with options: {'CPUExecutionProvider': {}}\n",
            "find model: /root/.insightface/models/buffalo_l/det_10g.onnx detection [1, 3, '?', '?'] 127.5 128.0\n",
            "Applied providers: ['CPUExecutionProvider'], with options: {'CPUExecutionProvider': {}}\n",
            "find model: /root/.insightface/models/buffalo_l/genderage.onnx genderage ['None', 3, 96, 96] 0.0 1.0\n",
            "Applied providers: ['CPUExecutionProvider'], with options: {'CPUExecutionProvider': {}}\n",
            "find model: /root/.insightface/models/buffalo_l/w600k_r50.onnx recognition ['None', 3, 112, 112] 127.5 127.5\n",
            "set det-size: (640, 640)\n",
            "----checkpoints loaded from path: checkpoints/cloth_segm.pth----\n",
            "Running on local URL:  http://0.0.0.0:7860\n",
            "Running on public URL: https://26787dd17f7b031626.gradio.live\n",
            "\n",
            "This share link expires in 72 hours. For free permanent hosting and GPU upgrades, run `gradio deploy` from Terminal to deploy to Spaces (https://huggingface.co/spaces)\n",
            "/usr/local/lib/python3.10/dist-packages/insightface/utils/transform.py:68: FutureWarning: `rcond` parameter will change to the default of machine precision times ``max(M, N)`` where M and N are the input matrix dimensions.\n",
            "To use the future default and silence this warning we advise to pass `rcond=None`, to keep using the old, explicitly pass `rcond=-1`.\n",
            "  P = np.linalg.lstsq(X_homo, Y)[0].T # Affine matrix. 3 x 4\n",
            "/usr/local/lib/python3.10/dist-packages/torch/nn/functional.py:3737: UserWarning: nn.functional.upsample is deprecated. Use nn.functional.interpolate instead.\n",
            "  warnings.warn(\"nn.functional.upsample is deprecated. Use nn.functional.interpolate instead.\")\n",
            "100% 20/20 [00:13<00:00,  1.46it/s]\n",
            "/usr/local/lib/python3.10/dist-packages/insightface/utils/transform.py:68: FutureWarning: `rcond` parameter will change to the default of machine precision times ``max(M, N)`` where M and N are the input matrix dimensions.\n",
            "To use the future default and silence this warning we advise to pass `rcond=None`, to keep using the old, explicitly pass `rcond=-1`.\n",
            "  P = np.linalg.lstsq(X_homo, Y)[0].T # Affine matrix. 3 x 4\n",
            "/usr/local/lib/python3.10/dist-packages/torch/nn/functional.py:3737: UserWarning: nn.functional.upsample is deprecated. Use nn.functional.interpolate instead.\n",
            "  warnings.warn(\"nn.functional.upsample is deprecated. Use nn.functional.interpolate instead.\")\n",
            "100% 20/20 [00:11<00:00,  1.72it/s]\n",
            "/usr/local/lib/python3.10/dist-packages/insightface/utils/transform.py:68: FutureWarning: `rcond` parameter will change to the default of machine precision times ``max(M, N)`` where M and N are the input matrix dimensions.\n",
            "To use the future default and silence this warning we advise to pass `rcond=None`, to keep using the old, explicitly pass `rcond=-1`.\n",
            "  P = np.linalg.lstsq(X_homo, Y)[0].T # Affine matrix. 3 x 4\n",
            "/usr/local/lib/python3.10/dist-packages/torch/nn/functional.py:3737: UserWarning: nn.functional.upsample is deprecated. Use nn.functional.interpolate instead.\n",
            "  warnings.warn(\"nn.functional.upsample is deprecated. Use nn.functional.interpolate instead.\")\n",
            "100% 20/20 [00:11<00:00,  1.69it/s]\n",
            "Keyboard interruption in main thread... closing server.\n",
            "Traceback (most recent call last):\n",
            "  File \"/usr/local/lib/python3.10/dist-packages/gradio/blocks.py\", line 2233, in block_thread\n",
            "    time.sleep(0.1)\n",
            "KeyboardInterrupt\n",
            "\n",
            "During handling of the above exception, another exception occurred:\n",
            "\n",
            "Traceback (most recent call last):\n",
            "  File \"/content/MagicClothing/gradio_ipadapter_faceid.py\", line 97, in <module>\n",
            "    block.launch(server_name=\"0.0.0.0\",share=True,  server_port=7860)\n",
            "  File \"/usr/local/lib/python3.10/dist-packages/gradio/blocks.py\", line 2140, in launch\n",
            "    self.block_thread()\n",
            "  File \"/usr/local/lib/python3.10/dist-packages/gradio/blocks.py\", line 2237, in block_thread\n",
            "    self.server.close()\n",
            "  File \"/usr/local/lib/python3.10/dist-packages/gradio/networking.py\", line 76, in close\n",
            "    self.thread.join()\n",
            "  File \"/usr/lib/python3.10/threading.py\", line 1096, in join\n",
            "    self._wait_for_tstate_lock()\n",
            "  File \"/usr/lib/python3.10/threading.py\", line 1116, in _wait_for_tstate_lock\n",
            "    if lock.acquire(block, timeout):\n",
            "KeyboardInterrupt\n",
            "Killing tunnel 0.0.0.0:7860 <> https://26787dd17f7b031626.gradio.live\n",
            "^C\n"
          ]
        }
      ]
    }
  ]
}