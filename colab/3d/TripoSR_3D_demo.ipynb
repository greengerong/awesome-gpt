{
  "nbformat": 4,
  "nbformat_minor": 0,
  "metadata": {
    "colab": {
      "provenance": [],
      "gpuType": "T4",
      "authorship_tag": "ABX9TyN4z9fBp72nFpEkVzqbK7Gx",
      "include_colab_link": true
    },
    "kernelspec": {
      "name": "python3",
      "display_name": "Python 3"
    },
    "language_info": {
      "name": "python"
    },
    "accelerator": "GPU"
  },
  "cells": [
    {
      "cell_type": "markdown",
      "metadata": {
        "id": "view-in-github",
        "colab_type": "text"
      },
      "source": [
        "<a href=\"https://colab.research.google.com/github/greengerong/awesome-llm/blob/main/colab/3D/TripoSR_3D_demo.ipynb\" target=\"_parent\"><img src=\"https://colab.research.google.com/assets/colab-badge.svg\" alt=\"Open In Colab\"/></a>"
      ]
    },
    {
      "cell_type": "markdown",
      "source": [
        "# 环境"
      ],
      "metadata": {
        "id": "dx75EgQ1a_bM"
      }
    },
    {
      "cell_type": "code",
      "execution_count": 2,
      "metadata": {
        "colab": {
          "base_uri": "https://localhost:8080/"
        },
        "id": "K9BGbjAOa-uA",
        "outputId": "c0f060f7-471c-4005-be95-17abdf327947"
      },
      "outputs": [
        {
          "output_type": "stream",
          "name": "stdout",
          "text": [
            "Cloning into 'TripoSR'...\n",
            "remote: Enumerating objects: 151, done.\u001b[K\n",
            "remote: Counting objects: 100% (121/121), done.\u001b[K\n",
            "remote: Compressing objects: 100% (84/84), done.\u001b[K\n",
            "remote: Total 151 (delta 54), reused 87 (delta 37), pack-reused 30\u001b[K\n",
            "Receiving objects: 100% (151/151), 36.71 MiB | 8.29 MiB/s, done.\n",
            "Resolving deltas: 100% (54/54), done.\n",
            "/content/TripoSR\n",
            "  Preparing metadata (setup.py) ... \u001b[?25l\u001b[?25hdone\n"
          ]
        }
      ],
      "source": [
        "!git clone https://github.com/VAST-AI-Research/TripoSR.git\n",
        "%cd /content/TripoSR\n",
        "!pip install -q --upgrade setuptools\n",
        "!pip install -q -r requirements.txt\n",
        "!pip install -q gradio\n"
      ]
    },
    {
      "cell_type": "markdown",
      "source": [
        "# CLI推理"
      ],
      "metadata": {
        "id": "WQQ8ZgQIbT6K"
      }
    },
    {
      "cell_type": "code",
      "source": [
        "%cd /content/TripoSR\n",
        "!python run.py examples/chair.png --output-dir output/"
      ],
      "metadata": {
        "colab": {
          "base_uri": "https://localhost:8080/"
        },
        "id": "Ev5HsVA3bUGt",
        "outputId": "4141f23d-cdd5-4841-914b-5e97e2ae18be"
      },
      "execution_count": 3,
      "outputs": [
        {
          "output_type": "stream",
          "name": "stdout",
          "text": [
            "/content/TripoSR\n",
            "2024-03-14 05:34:57,564 - INFO - Initializing model ...\n",
            "Downloading config.yaml: 100% 987/987 [00:00<00:00, 4.37MB/s]\n",
            "Downloading model.ckpt: 100% 1.68G/1.68G [00:09<00:00, 179MB/s]\n",
            "/usr/local/lib/python3.10/dist-packages/transformers/utils/generic.py:441: UserWarning: torch.utils._pytree._register_pytree_node is deprecated. Please use torch.utils._pytree.register_pytree_node instead.\n",
            "  _torch_pytree._register_pytree_node(\n",
            "The cache for model files in Transformers v4.22.0 has been updated. Migrating your old cache. This is a one-time only operation. You can interrupt this and resume the migration later on by calling `transformers.utils.move_cache()`.\n",
            "0it [00:00, ?it/s]\n",
            "/usr/local/lib/python3.10/dist-packages/transformers/utils/generic.py:309: UserWarning: torch.utils._pytree._register_pytree_node is deprecated. Please use torch.utils._pytree.register_pytree_node instead.\n",
            "  _torch_pytree._register_pytree_node(\n",
            "Downloading config.json: 100% 454/454 [00:00<00:00, 2.71MB/s]\n",
            "2024-03-14 05:35:15,409 - INFO - Initializing model finished in 17845.45ms.\n",
            "2024-03-14 05:35:15,409 - INFO - Processing images ...\n",
            "Downloading data from 'https://github.com/danielgatis/rembg/releases/download/v0.0.0/u2net.onnx' to file '/root/.u2net/u2net.onnx'.\n",
            "100%|████████████████████████████████████████| 176M/176M [00:00<00:00, 613GB/s]\n",
            "2024-03-14 05:35:19,553 - INFO - Processing images finished in 4143.69ms.\n",
            "2024-03-14 05:35:19,553 - INFO - Running image 1/1 ...\n",
            "2024-03-14 05:35:19,553 - INFO - Running model ...\n",
            "2024-03-14 05:35:22,501 - INFO - Running model finished in 2947.83ms.\n",
            "2024-03-14 05:35:22,501 - INFO - Exporting mesh ...\n",
            "2024-03-14 05:35:25,842 - INFO - Exporting mesh finished in 3340.58ms.\n",
            "\u001b[0m"
          ]
        }
      ]
    },
    {
      "cell_type": "markdown",
      "source": [
        "# WebUI"
      ],
      "metadata": {
        "id": "kR8Xr-AibYOL"
      }
    },
    {
      "cell_type": "code",
      "source": [
        "%cd /content/TripoSR\n",
        "!python gradio_app.py --share"
      ],
      "metadata": {
        "colab": {
          "base_uri": "https://localhost:8080/"
        },
        "id": "KQnjfy6DbYYY",
        "outputId": "1c31c646-74c7-4e5c-b105-a10151788b75"
      },
      "execution_count": null,
      "outputs": [
        {
          "output_type": "stream",
          "name": "stdout",
          "text": [
            "/content/TripoSR\n",
            "/usr/local/lib/python3.10/dist-packages/transformers/utils/generic.py:441: UserWarning: torch.utils._pytree._register_pytree_node is deprecated. Please use torch.utils._pytree.register_pytree_node instead.\n",
            "  _torch_pytree._register_pytree_node(\n",
            "/usr/local/lib/python3.10/dist-packages/transformers/utils/generic.py:309: UserWarning: torch.utils._pytree._register_pytree_node is deprecated. Please use torch.utils._pytree.register_pytree_node instead.\n",
            "  _torch_pytree._register_pytree_node(\n",
            "Running on local URL:  http://127.0.0.1:7860\n",
            "Running on public URL: https://6b74925f6877a7402b.gradio.live\n",
            "\n",
            "This share link expires in 72 hours. For free permanent hosting and GPU upgrades, run `gradio deploy` from Terminal to deploy to Spaces (https://huggingface.co/spaces)\n"
          ]
        }
      ]
    }
  ]
}
