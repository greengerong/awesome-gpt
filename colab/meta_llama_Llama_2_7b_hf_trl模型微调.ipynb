{
  "nbformat": 4,
  "nbformat_minor": 0,
  "metadata": {
    "colab": {
      "private_outputs": true,
      "provenance": [],
      "gpuType": "T4",
      "authorship_tag": "ABX9TyPzOfBZMrqVzsSyh2AE7Xx8",
      "include_colab_link": true
    },
    "kernelspec": {
      "name": "python3",
      "display_name": "Python 3"
    },
    "language_info": {
      "name": "python"
    },
    "accelerator": "GPU"
  },
  "cells": [
    {
      "cell_type": "markdown",
      "metadata": {
        "id": "view-in-github",
        "colab_type": "text"
      },
      "source": [
        "<a href=\"https://colab.research.google.com/github/greengerong/awesome-llm/blob/main/colab/meta_llama_Llama_2_7b_hf_trl%E6%A8%A1%E5%9E%8B%E5%BE%AE%E8%B0%83.ipynb\" target=\"_parent\"><img src=\"https://colab.research.google.com/assets/colab-badge.svg\" alt=\"Open In Colab\"/></a>"
      ]
    },
    {
      "cell_type": "markdown",
      "source": [
        "# 安装 trl\n",
        "\n",
        "参考链接：[Llama 2 来袭 - 在 Hugging Face 上玩转它](https://huggingface.co/blog/zh/llama2)"
      ],
      "metadata": {
        "id": "HW1DMp3-AYCk"
      }
    },
    {
      "cell_type": "markdown",
      "source": [],
      "metadata": {
        "id": "-zT83_LEBLI4"
      }
    },
    {
      "cell_type": "code",
      "execution_count": null,
      "metadata": {
        "id": "N-yRXraS_y-B"
      },
      "outputs": [],
      "source": [
        "!cd /content/\n",
        "!pip install trl peft bitsandbytes\n",
        "!git clone https://github.com/lvwerra/trl\n",
        "!pip install -r ./trl/requirements.txt"
      ]
    },
    {
      "cell_type": "markdown",
      "source": [
        "# trl微调"
      ],
      "metadata": {
        "id": "Cg4UUlBTAh4M"
      }
    },
    {
      "cell_type": "code",
      "source": [
        "!pip install huggingface_hub\n",
        "!huggingface-cli login"
      ],
      "metadata": {
        "id": "Oq3XjHHACT0w"
      },
      "execution_count": null,
      "outputs": []
    },
    {
      "cell_type": "markdown",
      "source": [
        "花费时间较长，耐心等待"
      ],
      "metadata": {
        "id": "GgWxJe5nGRlz"
      }
    },
    {
      "cell_type": "code",
      "source": [
        "!python trl/examples/scripts/sft_trainer.py \\\n",
        "    --model_name meta-llama/Llama-2-7b-hf \\\n",
        "    --dataset_name timdettmers/openassistant-guanaco \\\n",
        "    --load_in_4bit \\\n",
        "    --use_peft \\\n",
        "    --batch_size 4 \\\n",
        "    --gradient_accumulation_steps 2\n"
      ],
      "metadata": {
        "id": "jHwOpY9R_84S"
      },
      "execution_count": null,
      "outputs": []
    }
  ]
}